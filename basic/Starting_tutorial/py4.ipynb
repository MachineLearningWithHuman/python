{
  "nbformat": 4,
  "nbformat_minor": 0,
  "metadata": {
    "colab": {
      "name": "py4.ipynb",
      "provenance": []
    },
    "kernelspec": {
      "name": "python3",
      "display_name": "Python 3"
    }
  },
  "cells": [
    {
      "cell_type": "markdown",
      "metadata": {
        "id": "7yR_iN-3WwQn",
        "colab_type": "text"
      },
      "source": [
        "<h1>Regular Expressions</h1>\n",
        "Regular expressions are a powerful language for matching text patterns. This page gives a basic introduction to regular expressions themselves sufficient for our Python exercises and shows how regular expressions work in Python. The Python \"re\" module provides regular expression support.\n",
        "In Python a regular expression search is typically written as:"
      ]
    },
    {
      "cell_type": "code",
      "metadata": {
        "id": "iXT8m-vTV-Cj",
        "colab_type": "code",
        "colab": {
          "base_uri": "https://localhost:8080/",
          "height": 34
        },
        "outputId": "b72449ae-ab29-4ce8-f6fe-2772393dea28"
      },
      "source": [
        "#match = re.search(pat, str)\n",
        "import re\n",
        "str = 'an example word:cat!!'\n",
        "match = re.search(r'word:\\w\\w\\w', str)\n",
        "\n",
        "if match:\n",
        "  print ('found', match.group()) ## 'found word:cat'\n",
        "else:\n",
        "  print ('did not find')"
      ],
      "execution_count": 2,
      "outputs": [
        {
          "output_type": "stream",
          "text": [
            "found word:cat\n"
          ],
          "name": "stdout"
        }
      ]
    },
    {
      "cell_type": "markdown",
      "metadata": {
        "id": "tlvx_2dcXn7J",
        "colab_type": "text"
      },
      "source": [
        "<h1> Basic Pattern </h1>\n",
        "\n",
        "\n",
        "\n",
        "*   a, X, 9, < -- ordinary characters just match themselves exactly. The meta-characters which do not match themselves because they have special meanings are: . ^ $ * + ? { [ ] \\ | ( ) (details below)\n",
        "*   . (a period) -- matches any single character except newline '\\n'\n",
        "\n",
        "*   \\w -- (lowercase w) matches a \"word\" character: a letter or digit or underbar [a-zA-Z0-9_]. Note that although \"word\" is the mnemonic for this, it only matches a single word char, not a whole word. \\W (upper case W) matches any non-word character.\n",
        "*  \\b -- boundary between word and non-word\n",
        "*   \\s -- (lowercase s) matches a single whitespace character -- space, newline, return, tab, form [ \\n\\r\\t\\f]. \\S (upper case S) matches any non-whitespace character.\n",
        "*   \\t, \\n, \\r -- tab, newline, return\n",
        "\n",
        "\n",
        "\n",
        "\n"
      ]
    },
    {
      "cell_type": "code",
      "metadata": {
        "id": "AwsS__UlXM9W",
        "colab_type": "code",
        "colab": {}
      },
      "source": [
        "## i+ = one or more i's, as many as possible.\n",
        "  match = re.search(r'pi+', 'piiig') # found, match.group() == \"piii\"\n",
        "\n",
        "  ## Finds the first/leftmost solution, and within it drives the +\n",
        "  ## as far as possible (aka 'leftmost and largest').\n",
        "  ## In this example, note that it does not get to the second set of i's.\n",
        "  match = re.search(r'i+', 'piigiiii') # found, match.group() == \"ii\"\n",
        "\n",
        "  ## \\s* = zero or more whitespace chars\n",
        "  ## Here look for 3 digits, possibly separated by whitespace.\n",
        "  match = re.search(r'\\d\\s*\\d\\s*\\d', 'xx1 2   3xx') # found, match.group() == \"1 2   3\"\n",
        "  match = re.search(r'\\d\\s*\\d\\s*\\d', 'xx12  3xx') # found, match.group() == \"12  3\"\n",
        "  match = re.search(r'\\d\\s*\\d\\s*\\d', 'xx123xx') # found, match.group() == \"123\"\n",
        "\n",
        "  ## ^ = matches the start of string, so this fails:\n",
        "  match = re.search(r'^b\\w+', 'foobar') # not found, match == None\n",
        "  ## but without the ^ it succeeds:\n",
        "  match = re.search(r'b\\w+', 'foobar') # found, match.group() == \"bar\""
      ],
      "execution_count": 0,
      "outputs": []
    },
    {
      "cell_type": "code",
      "metadata": {
        "id": "IWWyDdW4ZBAw",
        "colab_type": "code",
        "colab": {
          "base_uri": "https://localhost:8080/",
          "height": 102
        },
        "outputId": "b40a3fe0-d4f2-4679-dc56-5de388de9aa2"
      },
      "source": [
        "str = 'purple alice@google.com, blah monkey bob@abc.com blah dishwasher'\n",
        "tuples = re.findall(r'([\\w\\.-]+)@([\\w\\.-]+)', str)\n",
        "print(tuples)  ## [('alice', 'google.com'), ('bob', 'abc.com')]\n",
        "for tuple in tuples:\n",
        "  print (tuple[0])  ## username\n",
        "  print (tuple[1])  ## host"
      ],
      "execution_count": 4,
      "outputs": [
        {
          "output_type": "stream",
          "text": [
            "[('alice', 'google.com'), ('bob', 'abc.com')]\n",
            "alice\n",
            "google.com\n",
            "bob\n",
            "abc.com\n"
          ],
          "name": "stdout"
        }
      ]
    },
    {
      "cell_type": "markdown",
      "metadata": {
        "id": "aEc3pEkmZ2gZ",
        "colab_type": "text"
      },
      "source": [
        "<h1>RE Workflow and Debug</h1>\n",
        "Regular expression patterns pack a lot of meaning into just a few characters , but they are so dense, you can spend a lot of time debugging your patterns. Set up your runtime so you can run a pattern and print what it matches easily, for example by running it on a small test text and printing the result of findall(). If the pattern matches nothing, try weakening the pattern, removing parts of it so you get too many matches. When it's matching nothing, you can't make any progress since there's nothing concrete to look at. Once it's matching too much, then you can work on tightening it up incrementally to hit just what you want."
      ]
    },
    {
      "cell_type": "code",
      "metadata": {
        "id": "kAnNWhuIZyCh",
        "colab_type": "code",
        "colab": {}
      },
      "source": [
        ""
      ],
      "execution_count": 0,
      "outputs": []
    }
  ]
}