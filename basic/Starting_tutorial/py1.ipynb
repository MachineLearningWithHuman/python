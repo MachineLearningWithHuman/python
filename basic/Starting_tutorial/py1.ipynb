{
  "nbformat": 4,
  "nbformat_minor": 0,
  "metadata": {
    "colab": {
      "name": "py1.ipynb",
      "provenance": []
    },
    "kernelspec": {
      "name": "python3",
      "display_name": "Python 3"
    }
  },
  "cells": [
    {
      "cell_type": "code",
      "metadata": {
        "id": "RcVByPIKJCES",
        "colab_type": "code",
        "colab": {
          "base_uri": "https://localhost:8080/",
          "height": 51
        },
        "outputId": "cf203cc5-2ed9-4cbb-9719-7d22086a108c"
      },
      "source": [
        "#!/usr/bin/env python\n",
        "\n",
        "# import modules used here -- sys is a very standard one\n",
        "import sys\n",
        "\n",
        "# Gather our code in a main() function\n",
        "def main():\n",
        "    print ('Hello there', sys.argv[1])\n",
        "    print(repeat(\"satyajit\",True))\n",
        "    # Command line args are in sys.argv[1], sys.argv[2] ...\n",
        "    # sys.argv[0] is the script name itself and can be ignored\n",
        "\n",
        "# Standard boilerplate to call the main() function to begin\n",
        "# the program.\n",
        "if __name__ == '__main__':\n",
        "    main()"
      ],
      "execution_count": 6,
      "outputs": [
        {
          "output_type": "stream",
          "text": [
            "Hello there -f\n",
            "satyajitsatyajitsatyajit!!!\n"
          ],
          "name": "stdout"
        }
      ]
    },
    {
      "cell_type": "markdown",
      "metadata": {
        "id": "ZToKVbmJJbJk",
        "colab_type": "text"
      },
      "source": [
        "<h3><b>Understanding Command</b></h3>\n",
        "save the result as hello.py and pass argument as you like see the result "
      ]
    },
    {
      "cell_type": "markdown",
      "metadata": {
        "id": "lwSpAlnAJzJr",
        "colab_type": "text"
      },
      "source": [
        "<h1><b>User-defined Functions</b></h1>"
      ]
    },
    {
      "cell_type": "code",
      "metadata": {
        "id": "4leC9duhJHaP",
        "colab_type": "code",
        "colab": {}
      },
      "source": [
        "# Defines a \"repeat\" function that takes 2 arguments.\n",
        "def repeat(s, exclaim):\n",
        "    \"\"\"\n",
        "    Returns the string 's' repeated 3 times.\n",
        "    If exclaim is true, add exclamation marks.\n",
        "    \"\"\"\n",
        "\n",
        "    result = s + s + s # can also use \"s * 3\" which is faster (Why?)\n",
        "    if exclaim:\n",
        "        result = result + '!!!'\n",
        "    return result"
      ],
      "execution_count": 0,
      "outputs": []
    },
    {
      "cell_type": "code",
      "metadata": {
        "id": "FabF4SEvKAQS",
        "colab_type": "code",
        "colab": {
          "base_uri": "https://localhost:8080/",
          "height": 34
        },
        "outputId": "adabb46c-cddd-450b-c1be-0bfbe24942c2"
      },
      "source": [
        "repeat(\"satyajit\",3)"
      ],
      "execution_count": 3,
      "outputs": [
        {
          "output_type": "execute_result",
          "data": {
            "text/plain": [
              "'satyajitsatyajitsatyajit!!!'"
            ]
          },
          "metadata": {
            "tags": []
          },
          "execution_count": 3
        }
      ]
    },
    {
      "cell_type": "code",
      "metadata": {
        "id": "SytbSw4uKEDY",
        "colab_type": "code",
        "colab": {
          "base_uri": "https://localhost:8080/",
          "height": 34
        },
        "outputId": "2000de30-2534-420e-d840-a96ccb4f07db"
      },
      "source": [
        "repeat(\"satyajit\",False)"
      ],
      "execution_count": 4,
      "outputs": [
        {
          "output_type": "execute_result",
          "data": {
            "text/plain": [
              "'satyajitsatyajitsatyajit'"
            ]
          },
          "metadata": {
            "tags": []
          },
          "execution_count": 4
        }
      ]
    },
    {
      "cell_type": "markdown",
      "metadata": {
        "id": "Z1LyQfA8Kqp7",
        "colab_type": "text"
      },
      "source": [
        "<h1><b>Strings</b></h1>"
      ]
    },
    {
      "cell_type": "code",
      "metadata": {
        "id": "_Fb8u8H8KIKI",
        "colab_type": "code",
        "colab": {
          "base_uri": "https://localhost:8080/",
          "height": 34
        },
        "outputId": "1e066d30-2901-4de9-d7f4-ad65786d2bda"
      },
      "source": [
        "string_val = \"\"\"Python has a built-in string class named \"str\" with many handy features\n",
        " (there is an older module named \"string\" which you should not use).\n",
        "  String literals can be enclosed by either double or single quotes, although single quotes are more commonly used.\n",
        "   Backslash escapes work the usual way within both single and double quoted literals\n",
        "    -- e.g. \\n \\' \\\". A double quoted string literal can contain single quotes without any fuss\n",
        "     (e.g. \"I didn't do it\") and likewise single quoted string can contain double quotes.\n",
        "      A string literal can span multiple lines,\n",
        "       but there must be a backslash \\ at the end of each line to escape the newline.\n",
        "        String literals inside triple quotes, can span multiple lines of text.\"\"\""
      ],
      "execution_count": 7,
      "outputs": [
        {
          "output_type": "stream",
          "text": [
            "ERROR! Session/line number was not unique in database. History logging moved to new session 60\n"
          ],
          "name": "stdout"
        }
      ]
    },
    {
      "cell_type": "code",
      "metadata": {
        "id": "-x0cLvwDLHET",
        "colab_type": "code",
        "colab": {
          "base_uri": "https://localhost:8080/",
          "height": 34
        },
        "outputId": "5d6f6ba6-1571-46f5-ff82-f116f769c28d"
      },
      "source": [
        "print(string_val[23])"
      ],
      "execution_count": 8,
      "outputs": [
        {
          "output_type": "stream",
          "text": [
            "t\n"
          ],
          "name": "stdout"
        }
      ]
    },
    {
      "cell_type": "code",
      "metadata": {
        "id": "vRbzkcA0LOoA",
        "colab_type": "code",
        "colab": {
          "base_uri": "https://localhost:8080/",
          "height": 34
        },
        "outputId": "117c884d-e729-4bdf-93af-97e40fe3a32f"
      },
      "source": [
        "print(string_val[:23])"
      ],
      "execution_count": 9,
      "outputs": [
        {
          "output_type": "stream",
          "text": [
            "Python has a built-in s\n"
          ],
          "name": "stdout"
        }
      ]
    },
    {
      "cell_type": "code",
      "metadata": {
        "id": "QXjgOspkLVtF",
        "colab_type": "code",
        "colab": {
          "base_uri": "https://localhost:8080/",
          "height": 34
        },
        "outputId": "4856360e-26b7-4ef1-d9fc-4390782ed619"
      },
      "source": [
        "len(string_val)"
      ],
      "execution_count": 10,
      "outputs": [
        {
          "output_type": "execute_result",
          "data": {
            "text/plain": [
              "738"
            ]
          },
          "metadata": {
            "tags": []
          },
          "execution_count": 10
        }
      ]
    },
    {
      "cell_type": "code",
      "metadata": {
        "id": "eqmR5giuLcYn",
        "colab_type": "code",
        "colab": {
          "base_uri": "https://localhost:8080/",
          "height": 54
        },
        "outputId": "ba4b43e5-3b00-4559-9aa9-33ae3311276b"
      },
      "source": [
        "#pi addition\n",
        "pi = 3.14\n",
        "string_val + str(pi)"
      ],
      "execution_count": 11,
      "outputs": [
        {
          "output_type": "execute_result",
          "data": {
            "text/plain": [
              "'Python has a built-in string class named \"str\" with many handy features\\n (there is an older module named \"string\" which you should not use).\\n  String literals can be enclosed by either double or single quotes, although single quotes are more commonly used.\\n   Backslash escapes work the usual way within both single and double quoted literals\\n    -- e.g. \\n \\' \". A double quoted string literal can contain single quotes without any fuss\\n     (e.g. \"I didn\\'t do it\") and likewise single quoted string can contain double quotes.\\n      A string literal can span multiple lines,\\n       but there must be a backslash \\\\ at the end of each line to escape the newline.\\n        String literals inside triple quotes, can span multiple lines of text.3.14'"
            ]
          },
          "metadata": {
            "tags": []
          },
          "execution_count": 11
        }
      ]
    },
    {
      "cell_type": "code",
      "metadata": {
        "id": "11io46m0LjJs",
        "colab_type": "code",
        "colab": {}
      },
      "source": [
        "raw = r'this\\t\\n and that'"
      ],
      "execution_count": 0,
      "outputs": []
    },
    {
      "cell_type": "code",
      "metadata": {
        "id": "V7f6dW2ILm8-",
        "colab_type": "code",
        "colab": {
          "base_uri": "https://localhost:8080/",
          "height": 51
        },
        "outputId": "e1ae6055-044a-4bf0-c37d-6d58a3ecdf45"
      },
      "source": [
        "print (raw)"
      ],
      "execution_count": 13,
      "outputs": [
        {
          "output_type": "stream",
          "text": [
            "this\\t\\n and that\n",
            "ERROR! Session/line number was not unique in database. History logging moved to new session 61\n"
          ],
          "name": "stdout"
        }
      ]
    },
    {
      "cell_type": "code",
      "metadata": {
        "id": "azaNcpzpLou5",
        "colab_type": "code",
        "colab": {
          "base_uri": "https://localhost:8080/",
          "height": 51
        },
        "outputId": "02247e0b-dd30-455c-ff34-9e7a46540c8e"
      },
      "source": [
        "raw = 'this\\t\\n and that'\n",
        "print(raw)"
      ],
      "execution_count": 14,
      "outputs": [
        {
          "output_type": "stream",
          "text": [
            "this\t\n",
            " and that\n"
          ],
          "name": "stdout"
        }
      ]
    },
    {
      "cell_type": "code",
      "metadata": {
        "id": "5maP0g3rLvuZ",
        "colab_type": "code",
        "colab": {
          "base_uri": "https://localhost:8080/",
          "height": 51
        },
        "outputId": "6bb13854-d969-4b5f-ee3f-8399dc778bd5"
      },
      "source": [
        "multi = \"\"\"It was the best of times.\n",
        "  It was the worst of times.\"\"\"\n",
        "print (multi)"
      ],
      "execution_count": 15,
      "outputs": [
        {
          "output_type": "stream",
          "text": [
            "It was the best of times.\n",
            "  It was the worst of times.\n"
          ],
          "name": "stdout"
        }
      ]
    },
    {
      "cell_type": "code",
      "metadata": {
        "id": "y07kClbPL6Wx",
        "colab_type": "code",
        "colab": {
          "base_uri": "https://localhost:8080/",
          "height": 54
        },
        "outputId": "71f4f20f-8c29-47d7-d79a-86a974b6ed75"
      },
      "source": [
        "string_val.lower()"
      ],
      "execution_count": 16,
      "outputs": [
        {
          "output_type": "execute_result",
          "data": {
            "text/plain": [
              "'python has a built-in string class named \"str\" with many handy features\\n (there is an older module named \"string\" which you should not use).\\n  string literals can be enclosed by either double or single quotes, although single quotes are more commonly used.\\n   backslash escapes work the usual way within both single and double quoted literals\\n    -- e.g. \\n \\' \". a double quoted string literal can contain single quotes without any fuss\\n     (e.g. \"i didn\\'t do it\") and likewise single quoted string can contain double quotes.\\n      a string literal can span multiple lines,\\n       but there must be a backslash \\\\ at the end of each line to escape the newline.\\n        string literals inside triple quotes, can span multiple lines of text.'"
            ]
          },
          "metadata": {
            "tags": []
          },
          "execution_count": 16
        }
      ]
    },
    {
      "cell_type": "code",
      "metadata": {
        "id": "63V9eXoxL_OJ",
        "colab_type": "code",
        "colab": {
          "base_uri": "https://localhost:8080/",
          "height": 54
        },
        "outputId": "2ec4061e-e52f-44da-f90d-7f85393d5ccc"
      },
      "source": [
        "string_val.upper()"
      ],
      "execution_count": 17,
      "outputs": [
        {
          "output_type": "execute_result",
          "data": {
            "text/plain": [
              "'PYTHON HAS A BUILT-IN STRING CLASS NAMED \"STR\" WITH MANY HANDY FEATURES\\n (THERE IS AN OLDER MODULE NAMED \"STRING\" WHICH YOU SHOULD NOT USE).\\n  STRING LITERALS CAN BE ENCLOSED BY EITHER DOUBLE OR SINGLE QUOTES, ALTHOUGH SINGLE QUOTES ARE MORE COMMONLY USED.\\n   BACKSLASH ESCAPES WORK THE USUAL WAY WITHIN BOTH SINGLE AND DOUBLE QUOTED LITERALS\\n    -- E.G. \\n \\' \". A DOUBLE QUOTED STRING LITERAL CAN CONTAIN SINGLE QUOTES WITHOUT ANY FUSS\\n     (E.G. \"I DIDN\\'T DO IT\") AND LIKEWISE SINGLE QUOTED STRING CAN CONTAIN DOUBLE QUOTES.\\n      A STRING LITERAL CAN SPAN MULTIPLE LINES,\\n       BUT THERE MUST BE A BACKSLASH \\\\ AT THE END OF EACH LINE TO ESCAPE THE NEWLINE.\\n        STRING LITERALS INSIDE TRIPLE QUOTES, CAN SPAN MULTIPLE LINES OF TEXT.'"
            ]
          },
          "metadata": {
            "tags": []
          },
          "execution_count": 17
        }
      ]
    },
    {
      "cell_type": "code",
      "metadata": {
        "id": "e0asGQgqMBUM",
        "colab_type": "code",
        "colab": {
          "base_uri": "https://localhost:8080/",
          "height": 54
        },
        "outputId": "0508a47d-35ad-46b4-e874-94fedf3b9881"
      },
      "source": [
        "string_val.strip()"
      ],
      "execution_count": 18,
      "outputs": [
        {
          "output_type": "execute_result",
          "data": {
            "text/plain": [
              "'Python has a built-in string class named \"str\" with many handy features\\n (there is an older module named \"string\" which you should not use).\\n  String literals can be enclosed by either double or single quotes, although single quotes are more commonly used.\\n   Backslash escapes work the usual way within both single and double quoted literals\\n    -- e.g. \\n \\' \". A double quoted string literal can contain single quotes without any fuss\\n     (e.g. \"I didn\\'t do it\") and likewise single quoted string can contain double quotes.\\n      A string literal can span multiple lines,\\n       but there must be a backslash \\\\ at the end of each line to escape the newline.\\n        String literals inside triple quotes, can span multiple lines of text.'"
            ]
          },
          "metadata": {
            "tags": []
          },
          "execution_count": 18
        }
      ]
    },
    {
      "cell_type": "code",
      "metadata": {
        "id": "WLmC3ifEMFTa",
        "colab_type": "code",
        "colab": {
          "base_uri": "https://localhost:8080/",
          "height": 34
        },
        "outputId": "ca026ce8-e139-4b3e-a998-4862a02e1a23"
      },
      "source": [
        "string_val.isspace()"
      ],
      "execution_count": 19,
      "outputs": [
        {
          "output_type": "execute_result",
          "data": {
            "text/plain": [
              "False"
            ]
          },
          "metadata": {
            "tags": []
          },
          "execution_count": 19
        }
      ]
    },
    {
      "cell_type": "code",
      "metadata": {
        "id": "9KPpN6dZMLs3",
        "colab_type": "code",
        "colab": {
          "base_uri": "https://localhost:8080/",
          "height": 34
        },
        "outputId": "2c26546b-0cd8-402b-d424-7da9baec5933"
      },
      "source": [
        "string_val.isdigit()"
      ],
      "execution_count": 20,
      "outputs": [
        {
          "output_type": "execute_result",
          "data": {
            "text/plain": [
              "False"
            ]
          },
          "metadata": {
            "tags": []
          },
          "execution_count": 20
        }
      ]
    },
    {
      "cell_type": "code",
      "metadata": {
        "id": "ke4bSg_cMP9N",
        "colab_type": "code",
        "colab": {
          "base_uri": "https://localhost:8080/",
          "height": 34
        },
        "outputId": "a49482fc-c78f-4396-e2ad-19886df7425b"
      },
      "source": [
        "string_val.find(\"python\") #not found"
      ],
      "execution_count": 21,
      "outputs": [
        {
          "output_type": "execute_result",
          "data": {
            "text/plain": [
              "-1"
            ]
          },
          "metadata": {
            "tags": []
          },
          "execution_count": 21
        }
      ]
    },
    {
      "cell_type": "code",
      "metadata": {
        "id": "QD760VhyMUyr",
        "colab_type": "code",
        "colab": {
          "base_uri": "https://localhost:8080/",
          "height": 34
        },
        "outputId": "c1c4cd49-0b03-459a-d837-07d6dc4371cd"
      },
      "source": [
        "string_val.lower().find(\"python\")"
      ],
      "execution_count": 22,
      "outputs": [
        {
          "output_type": "execute_result",
          "data": {
            "text/plain": [
              "0"
            ]
          },
          "metadata": {
            "tags": []
          },
          "execution_count": 22
        }
      ]
    },
    {
      "cell_type": "code",
      "metadata": {
        "id": "DFLyDV6DMqgv",
        "colab_type": "code",
        "colab": {
          "base_uri": "https://localhost:8080/",
          "height": 187
        },
        "outputId": "0670dced-2574-4258-aff9-9c4115518b41"
      },
      "source": [
        "string_r=string_val.lower().replace('python', 'R')\n",
        "print(string_r)"
      ],
      "execution_count": 24,
      "outputs": [
        {
          "output_type": "stream",
          "text": [
            "R has a built-in string class named \"str\" with many handy features\n",
            " (there is an older module named \"string\" which you should not use).\n",
            "  string literals can be enclosed by either double or single quotes, although single quotes are more commonly used.\n",
            "   backslash escapes work the usual way within both single and double quoted literals\n",
            "    -- e.g. \n",
            " ' \". a double quoted string literal can contain single quotes without any fuss\n",
            "     (e.g. \"i didn't do it\") and likewise single quoted string can contain double quotes.\n",
            "      a string literal can span multiple lines,\n",
            "       but there must be a backslash \\ at the end of each line to escape the newline.\n",
            "        string literals inside triple quotes, can span multiple lines of text.\n"
          ],
          "name": "stdout"
        }
      ]
    },
    {
      "cell_type": "code",
      "metadata": {
        "id": "_g6O1FtrM1ix",
        "colab_type": "code",
        "colab": {
          "base_uri": "https://localhost:8080/",
          "height": 204
        },
        "outputId": "dbe8cd6c-8f94-4c0b-d75c-b305ffd93578"
      },
      "source": [
        "string_val.split(\".\")"
      ],
      "execution_count": 25,
      "outputs": [
        {
          "output_type": "execute_result",
          "data": {
            "text/plain": [
              "['Python has a built-in string class named \"str\" with many handy features\\n (there is an older module named \"string\" which you should not use)',\n",
              " '\\n  String literals can be enclosed by either double or single quotes, although single quotes are more commonly used',\n",
              " '\\n   Backslash escapes work the usual way within both single and double quoted literals\\n    -- e',\n",
              " 'g',\n",
              " ' \\n \\' \"',\n",
              " ' A double quoted string literal can contain single quotes without any fuss\\n     (e',\n",
              " 'g',\n",
              " ' \"I didn\\'t do it\") and likewise single quoted string can contain double quotes',\n",
              " '\\n      A string literal can span multiple lines,\\n       but there must be a backslash \\\\ at the end of each line to escape the newline',\n",
              " '\\n        String literals inside triple quotes, can span multiple lines of text',\n",
              " '']"
            ]
          },
          "metadata": {
            "tags": []
          },
          "execution_count": 25
        }
      ]
    },
    {
      "cell_type": "code",
      "metadata": {
        "id": "JSyVv8yQNCL6",
        "colab_type": "code",
        "colab": {
          "base_uri": "https://localhost:8080/",
          "height": 34
        },
        "outputId": "6302e2a5-ad87-44ce-de35-d6fc32fcc940"
      },
      "source": [
        "type(string_val.split(\".\"))"
      ],
      "execution_count": 26,
      "outputs": [
        {
          "output_type": "execute_result",
          "data": {
            "text/plain": [
              "list"
            ]
          },
          "metadata": {
            "tags": []
          },
          "execution_count": 26
        }
      ]
    },
    {
      "cell_type": "code",
      "metadata": {
        "id": "ghssnQj7NFk6",
        "colab_type": "code",
        "colab": {
          "base_uri": "https://localhost:8080/",
          "height": 54
        },
        "outputId": "53ace8cc-c0ae-44f3-fa8d-02934da425b7"
      },
      "source": [
        "join_R  =\"\"\n",
        "join_R.join(string_r.split(\".\"))"
      ],
      "execution_count": 28,
      "outputs": [
        {
          "output_type": "execute_result",
          "data": {
            "text/plain": [
              "'R has a built-in string class named \"str\" with many handy features\\n (there is an older module named \"string\" which you should not use)\\n  string literals can be enclosed by either double or single quotes, although single quotes are more commonly used\\n   backslash escapes work the usual way within both single and double quoted literals\\n    -- eg \\n \\' \" a double quoted string literal can contain single quotes without any fuss\\n     (eg \"i didn\\'t do it\") and likewise single quoted string can contain double quotes\\n      a string literal can span multiple lines,\\n       but there must be a backslash \\\\ at the end of each line to escape the newline\\n        string literals inside triple quotes, can span multiple lines of text'"
            ]
          },
          "metadata": {
            "tags": []
          },
          "execution_count": 28
        },
        {
          "output_type": "stream",
          "text": [
            "ERROR! Session/line number was not unique in database. History logging moved to new session 62\n"
          ],
          "name": "stdout"
        }
      ]
    },
    {
      "cell_type": "markdown",
      "metadata": {
        "id": "Y9L8k9DZNo-R",
        "colab_type": "text"
      },
      "source": [
        "<h2>Contains Basic String and variable commands</h2>"
      ]
    },
    {
      "cell_type": "code",
      "metadata": {
        "id": "t4A47lKqNSrw",
        "colab_type": "code",
        "colab": {}
      },
      "source": [
        ""
      ],
      "execution_count": 0,
      "outputs": []
    }
  ]
}