{
  "nbformat": 4,
  "nbformat_minor": 0,
  "metadata": {
    "colab": {
      "name": "py3.ipynb",
      "provenance": []
    },
    "kernelspec": {
      "name": "python3",
      "display_name": "Python 3"
    }
  },
  "cells": [
    {
      "cell_type": "markdown",
      "metadata": {
        "id": "giaz2JkCSof3",
        "colab_type": "text"
      },
      "source": [
        "<h1>Dictonary</h1>\n",
        "Python's efficient key/value hash table structure is called a \"dict\". The contents of a dict can be written as a series of key:value pairs within braces { }, e.g. dict = {key1:value1, key2:value2, ... }. The \"empty dict\" is just an empty pair of curly braces {}.\n",
        "\n",
        "Looking up or setting a value in a dict uses square brackets, e.g. dict['foo'] looks up the value under the key 'foo'. Strings, numbers, and tuples work as keys, and any type can be a value. Other types may or may not work correctly as keys (strings and tuples work cleanly since they are immutable). Looking up a value which is not in the dict throws a KeyError -- use \"in\" to check if the key is in the dict, or use dict.get(key) which returns the value or None if the key is not present (or get(key, not-found) allows you to specify what value to return in the not-found case)."
      ]
    },
    {
      "cell_type": "code",
      "metadata": {
        "id": "Emn8ndQFSKyc",
        "colab_type": "code",
        "colab": {
          "base_uri": "https://localhost:8080/",
          "height": 34
        },
        "outputId": "b6cb50df-8272-4a64-df0d-f20a4be487f0"
      },
      "source": [
        " dict = {}\n",
        "dict['a'] = 'alpha'\n",
        "dict['g'] = 'gamma'\n",
        "dict['o'] = 'omega'\n",
        "dict"
      ],
      "execution_count": 1,
      "outputs": [
        {
          "output_type": "execute_result",
          "data": {
            "text/plain": [
              "{'a': 'alpha', 'g': 'gamma', 'o': 'omega'}"
            ]
          },
          "metadata": {
            "tags": []
          },
          "execution_count": 1
        }
      ]
    },
    {
      "cell_type": "code",
      "metadata": {
        "id": "RpUrdnhxSydL",
        "colab_type": "code",
        "colab": {
          "base_uri": "https://localhost:8080/",
          "height": 34
        },
        "outputId": "22fbd644-9aef-4b50-aa00-41152f5e3af8"
      },
      "source": [
        "dict[\"a\"]"
      ],
      "execution_count": 2,
      "outputs": [
        {
          "output_type": "execute_result",
          "data": {
            "text/plain": [
              "'alpha'"
            ]
          },
          "metadata": {
            "tags": []
          },
          "execution_count": 2
        }
      ]
    },
    {
      "cell_type": "code",
      "metadata": {
        "id": "KBiTl4rzS-qg",
        "colab_type": "code",
        "colab": {
          "base_uri": "https://localhost:8080/",
          "height": 34
        },
        "outputId": "45347c6b-67d8-48bd-96fa-fcb0c2f99486"
      },
      "source": [
        "print(dict.get(\"Z\"))"
      ],
      "execution_count": 3,
      "outputs": [
        {
          "output_type": "stream",
          "text": [
            "None\n"
          ],
          "name": "stdout"
        }
      ]
    },
    {
      "cell_type": "code",
      "metadata": {
        "id": "o_8rYrRtTE-6",
        "colab_type": "code",
        "colab": {
          "base_uri": "https://localhost:8080/",
          "height": 34
        },
        "outputId": "a2fb98f0-3ab2-4dad-b40f-8df3917d36b9"
      },
      "source": [
        "print(dict.get(\"a\"))"
      ],
      "execution_count": 4,
      "outputs": [
        {
          "output_type": "stream",
          "text": [
            "alpha\n"
          ],
          "name": "stdout"
        }
      ]
    },
    {
      "cell_type": "markdown",
      "metadata": {
        "id": "TPbc_8pJTMBp",
        "colab_type": "text"
      },
      "source": [
        "![Diagram](https://developers.google.com/edu/python/images/dict.png)"
      ]
    },
    {
      "cell_type": "code",
      "metadata": {
        "id": "3-cuQBI5TIWU",
        "colab_type": "code",
        "colab": {
          "base_uri": "https://localhost:8080/",
          "height": 289
        },
        "outputId": "ef71eca6-3a31-4f88-f350-0d7f8f85816a"
      },
      "source": [
        "## By default, iterating over a dict iterates over its keys.\n",
        "## Note that the keys are in a random order.\n",
        "for key in dict: print (key)\n",
        "## prints a g o\n",
        "\n",
        "## Exactly the same as above\n",
        "for key in dict.keys(): print (key)\n",
        "\n",
        "## Get the .keys() list:\n",
        "print (dict.keys())  ## ['a', 'o', 'g']\n",
        "\n",
        "## Likewise, there's a .values() list of values\n",
        "print (dict.values())  ## ['alpha', 'omega', 'gamma']\n",
        "\n",
        "## Common case -- loop over the keys in sorted order,\n",
        "## accessing each key/value\n",
        "for key in sorted(dict.keys()):\n",
        "  print (key, dict[key])\n",
        "\n",
        "## .items() is the dict expressed as (key, value) tuples\n",
        "print (dict.items())  ##  [('a', 'alpha'), ('o', 'omega'), ('g', 'gamma')]\n",
        "\n",
        "## This loop syntax accesses the whole dict by looping\n",
        "## over the .items() tuple list, accessing one (key, value)\n",
        "## pair on each iteration.\n",
        "for k, v in dict.items(): print (k, '>', v)\n",
        "## a > alpha    o > omega     g > gamma"
      ],
      "execution_count": 5,
      "outputs": [
        {
          "output_type": "stream",
          "text": [
            "a\n",
            "g\n",
            "o\n",
            "a\n",
            "g\n",
            "o\n",
            "dict_keys(['a', 'g', 'o'])\n",
            "dict_values(['alpha', 'gamma', 'omega'])\n",
            "a alpha\n",
            "g gamma\n",
            "o omega\n",
            "dict_items([('a', 'alpha'), ('g', 'gamma'), ('o', 'omega')])\n",
            "a > alpha\n",
            "g > gamma\n",
            "o > omega\n",
            "ERROR! Session/line number was not unique in database. History logging moved to new session 60\n"
          ],
          "name": "stdout"
        }
      ]
    },
    {
      "cell_type": "markdown",
      "metadata": {
        "id": "yrp_x05WUP3F",
        "colab_type": "text"
      },
      "source": [
        "<h1>Del</h1>\n",
        "The \"del\" operator does deletions. In the simplest case, it can remove the definition of a variable, as if that variable had not been defined. Del can also be used on list elements or slices to delete that part of the list and to delete entries from a dictionary."
      ]
    },
    {
      "cell_type": "code",
      "metadata": {
        "id": "ptRYUbSZTnZe",
        "colab_type": "code",
        "colab": {
          "base_uri": "https://localhost:8080/",
          "height": 51
        },
        "outputId": "4cbfbbd3-eec7-43b6-f995-ef8bfa689a0b"
      },
      "source": [
        "var = 6\n",
        "del var  # var no more!\n",
        "\n",
        "list = ['a', 'b', 'c', 'd']\n",
        "del list[0]     ## Delete first element\n",
        "del list[-2:]   ## Delete last two elements\n",
        "print (list)      ## ['b']\n",
        "\n",
        "dict = {'a':1, 'b':2, 'c':3}\n",
        "del dict['b']   ## Delete 'b' entry\n",
        "print(dict)      ## {'a':1, 'c':3}"
      ],
      "execution_count": 6,
      "outputs": [
        {
          "output_type": "stream",
          "text": [
            "['b']\n",
            "{'a': 1, 'c': 3}\n"
          ],
          "name": "stdout"
        }
      ]
    },
    {
      "cell_type": "markdown",
      "metadata": {
        "id": "xWtanrXtUgjW",
        "colab_type": "text"
      },
      "source": [
        "<h1>Files</h1>"
      ]
    },
    {
      "cell_type": "markdown",
      "metadata": {
        "id": "fg2X-rYVUnHN",
        "colab_type": "text"
      },
      "source": [
        "The open() function opens and returns a file handle that can be used to read or write a file in the usual way. The code f = open('name', 'r') opens the file into the variable f, ready for reading operations, and use f.close() when finished. Instead of 'r', use 'w' for writing, and 'a' for append. The special mode 'rU' is the \"Universal\" option for text files where it's smart about converting different line-endings so they always come through as a simple '\\n'. The standard for-loop works for text files, iterating through the lines of the file (this works only for text files, not binary files). The for-loop technique is a simple and efficient way to look at all the lines in a text file:"
      ]
    },
    {
      "cell_type": "code",
      "metadata": {
        "id": "Q5NM7YoTU001",
        "colab_type": "code",
        "colab": {}
      },
      "source": [
        "!cat foo.txt > \"hello world\""
      ],
      "execution_count": 0,
      "outputs": []
    },
    {
      "cell_type": "code",
      "metadata": {
        "id": "VNZ33kOTVVXO",
        "colab_type": "code",
        "colab": {
          "base_uri": "https://localhost:8080/",
          "height": 51
        },
        "outputId": "64dadd3c-64d2-488e-b012-77cdcc0da9b7"
      },
      "source": [
        "f = open('foo.txt', 'rU')\n",
        "for line in f:   ## iterates over the lines of the file\n",
        "  print (line)    ## trailing , so print does not add an end-of-line char\n",
        "                  ## since 'line' already includes the end-of-line.\n",
        "f.close()"
      ],
      "execution_count": 18,
      "outputs": [
        {
          "output_type": "stream",
          "text": [
            "/usr/local/lib/python3.6/dist-packages/ipykernel_launcher.py:1: DeprecationWarning: 'U' mode is deprecated\n",
            "  \"\"\"Entry point for launching an IPython kernel.\n"
          ],
          "name": "stderr"
        }
      ]
    },
    {
      "cell_type": "code",
      "metadata": {
        "id": "2FmQEQU8VkPB",
        "colab_type": "code",
        "colab": {}
      },
      "source": [
        "import codecs\n",
        "\n",
        "f = codecs.open('foo.txt', 'rU', 'utf-8')\n",
        "for line in f:\n",
        "  # here line is a *unicode* string\n",
        "  print(line)"
      ],
      "execution_count": 0,
      "outputs": []
    },
    {
      "cell_type": "code",
      "metadata": {
        "id": "itiLnAUEV2sF",
        "colab_type": "code",
        "colab": {}
      },
      "source": [
        ""
      ],
      "execution_count": 0,
      "outputs": []
    }
  ]
}