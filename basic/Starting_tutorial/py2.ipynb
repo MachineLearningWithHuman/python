{
  "nbformat": 4,
  "nbformat_minor": 0,
  "metadata": {
    "colab": {
      "name": "py2.ipynb",
      "provenance": []
    },
    "kernelspec": {
      "name": "python3",
      "display_name": "Python 3"
    }
  },
  "cells": [
    {
      "cell_type": "markdown",
      "metadata": {
        "id": "qMpvTQ9DN6fS",
        "colab_type": "text"
      },
      "source": [
        "<h1>List</h1>"
      ]
    },
    {
      "cell_type": "markdown",
      "metadata": {
        "id": "_Mg0zXRpQ-Hf",
        "colab_type": "text"
      },
      "source": [
        "Python has a great built-in list type named \"list\". List literals are written within square brackets [ ]. Lists work similarly to strings -- use the len() function and square brackets [ ] to access data, with the first element at index 0. "
      ]
    },
    {
      "cell_type": "code",
      "metadata": {
        "id": "DecCfhUvN0FR",
        "colab_type": "code",
        "colab": {
          "base_uri": "https://localhost:8080/",
          "height": 85
        },
        "outputId": "51f8d560-35ed-49bb-fd9e-5c310c80da16"
      },
      "source": [
        "colors = ['red', 'blue', 'green']\n",
        "print (colors[0])    ## red\n",
        "print (colors[2] )   ## green\n",
        "print (len(colors))  ## 3"
      ],
      "execution_count": 1,
      "outputs": [
        {
          "output_type": "stream",
          "text": [
            "red\n",
            "green\n",
            "3\n",
            "ERROR! Session/line number was not unique in database. History logging moved to new session 60\n"
          ],
          "name": "stdout"
        }
      ]
    },
    {
      "cell_type": "code",
      "metadata": {
        "id": "vW-ptFVTN6Je",
        "colab_type": "code",
        "colab": {}
      },
      "source": [
        "b = colors   ## Does not copy the list"
      ],
      "execution_count": 0,
      "outputs": []
    },
    {
      "cell_type": "code",
      "metadata": {
        "id": "LpyUxqRwOLAd",
        "colab_type": "code",
        "colab": {
          "base_uri": "https://localhost:8080/",
          "height": 51
        },
        "outputId": "b975efc4-ff5e-4b4b-d024-ed2500b91ffd"
      },
      "source": [
        "#check memory location\n",
        "print(hex(id(colors)))\n",
        "print(hex(id(b)))"
      ],
      "execution_count": 6,
      "outputs": [
        {
          "output_type": "stream",
          "text": [
            "0x7f3dcebb4e88\n",
            "0x7f3dcebb4e88\n"
          ],
          "name": "stdout"
        }
      ]
    },
    {
      "cell_type": "markdown",
      "metadata": {
        "id": "fIu7li3-REZe",
        "colab_type": "text"
      },
      "source": [
        "Python's *for* and *in* constructs are extremely useful, and the first use of them we'll see is with lists. The *for* construct -- for var in list -- is an easy way to look at each element in a list (or other collection). Do not add or remove from the list during iteration."
      ]
    },
    {
      "cell_type": "code",
      "metadata": {
        "id": "WB3Ki_83OX4U",
        "colab_type": "code",
        "colab": {
          "base_uri": "https://localhost:8080/",
          "height": 51
        },
        "outputId": "7be5131e-78a1-4454-c441-55b3b067b9a7"
      },
      "source": [
        "    squares = [1, 4, 9, 16]\n",
        "  sum = 0\n",
        "  for num in squares:\n",
        "    sum += num\n",
        "  print(sum)  ## 30"
      ],
      "execution_count": 7,
      "outputs": [
        {
          "output_type": "stream",
          "text": [
            "30\n",
            "ERROR! Session/line number was not unique in database. History logging moved to new session 61\n"
          ],
          "name": "stdout"
        }
      ]
    },
    {
      "cell_type": "markdown",
      "metadata": {
        "id": "e7kQ8ElLRJle",
        "colab_type": "text"
      },
      "source": [
        "If you know what sort of thing is in the list, use a variable name in the loop that captures that information such as \"num\", or \"name\", or \"url\". Since Python code does not have other syntax to remind you of types, your variable names are a key way for you to keep straight what is going on.\n",
        "\n",
        "The *in* construct on its own is an easy way to test if an element appears in a list (or other collection) -- value in collection -- tests if the value is in the collection, returning True/False."
      ]
    },
    {
      "cell_type": "code",
      "metadata": {
        "id": "86k0N29VOoYL",
        "colab_type": "code",
        "colab": {
          "base_uri": "https://localhost:8080/",
          "height": 51
        },
        "outputId": "ef37751d-a450-490d-83f7-250f933b98a8"
      },
      "source": [
        "list = ['larry', 'curly', 'moe']\n",
        "if 'curly' in list:\n",
        "  print('yay')"
      ],
      "execution_count": 8,
      "outputs": [
        {
          "output_type": "stream",
          "text": [
            "yay\n",
            "ERROR! Session/line number was not unique in database. History logging moved to new session 62\n"
          ],
          "name": "stdout"
        }
      ]
    },
    {
      "cell_type": "code",
      "metadata": {
        "id": "h60DfoYiOuck",
        "colab_type": "code",
        "colab": {
          "base_uri": "https://localhost:8080/",
          "height": 1000
        },
        "outputId": "d8a576dc-6b73-4e8f-8eab-9b11ab7ec9f0"
      },
      "source": [
        "for i in range(100):\n",
        "    print (i)"
      ],
      "execution_count": 9,
      "outputs": [
        {
          "output_type": "stream",
          "text": [
            "0\n",
            "1\n",
            "2\n",
            "3\n",
            "4\n",
            "5\n",
            "6\n",
            "7\n",
            "8\n",
            "9\n",
            "10\n",
            "11\n",
            "12\n",
            "13\n",
            "14\n",
            "15\n",
            "16\n",
            "17\n",
            "18\n",
            "19\n",
            "20\n",
            "21\n",
            "22\n",
            "23\n",
            "24\n",
            "25\n",
            "26\n",
            "27\n",
            "28\n",
            "29\n",
            "30\n",
            "31\n",
            "32\n",
            "33\n",
            "34\n",
            "35\n",
            "36\n",
            "37\n",
            "38\n",
            "39\n",
            "40\n",
            "41\n",
            "42\n",
            "43\n",
            "44\n",
            "45\n",
            "46\n",
            "47\n",
            "48\n",
            "49\n",
            "50\n",
            "51\n",
            "52\n",
            "53\n",
            "54\n",
            "55\n",
            "56\n",
            "57\n",
            "58\n",
            "59\n",
            "60\n",
            "61\n",
            "62\n",
            "63\n",
            "64\n",
            "65\n",
            "66\n",
            "67\n",
            "68\n",
            "69\n",
            "70\n",
            "71\n",
            "72\n",
            "73\n",
            "74\n",
            "75\n",
            "76\n",
            "77\n",
            "78\n",
            "79\n",
            "80\n",
            "81\n",
            "82\n",
            "83\n",
            "84\n",
            "85\n",
            "86\n",
            "87\n",
            "88\n",
            "89\n",
            "90\n",
            "91\n",
            "92\n",
            "93\n",
            "94\n",
            "95\n",
            "96\n",
            "97\n",
            "98\n",
            "99\n"
          ],
          "name": "stdout"
        }
      ]
    },
    {
      "cell_type": "code",
      "metadata": {
        "id": "xwifgSsJOzpL",
        "colab_type": "code",
        "colab": {
          "base_uri": "https://localhost:8080/",
          "height": 306
        },
        "outputId": "763385bb-172b-4463-fa8c-53d773efd747"
      },
      "source": [
        " a= range(50)\n",
        " i = 0\n",
        "while i < len(a):\n",
        "  print(a[i])\n",
        "  i = i + 3"
      ],
      "execution_count": 11,
      "outputs": [
        {
          "output_type": "stream",
          "text": [
            "0\n",
            "3\n",
            "6\n",
            "9\n",
            "12\n",
            "15\n",
            "18\n",
            "21\n",
            "24\n",
            "27\n",
            "30\n",
            "33\n",
            "36\n",
            "39\n",
            "42\n",
            "45\n",
            "48\n"
          ],
          "name": "stdout"
        }
      ]
    },
    {
      "cell_type": "code",
      "metadata": {
        "id": "c7LXTWxFO_Dj",
        "colab_type": "code",
        "colab": {}
      },
      "source": [
        "a=[23,34,45,46,67]\n",
        "a.append(23)"
      ],
      "execution_count": 0,
      "outputs": []
    },
    {
      "cell_type": "code",
      "metadata": {
        "id": "9fF7F8iRPGov",
        "colab_type": "code",
        "colab": {
          "base_uri": "https://localhost:8080/",
          "height": 34
        },
        "outputId": "953b3228-5c8e-4e11-9e14-8796ee63fce3"
      },
      "source": [
        "a"
      ],
      "execution_count": 19,
      "outputs": [
        {
          "output_type": "execute_result",
          "data": {
            "text/plain": [
              "[23, 34, 45, 46, 67, 23]"
            ]
          },
          "metadata": {
            "tags": []
          },
          "execution_count": 19
        }
      ]
    },
    {
      "cell_type": "code",
      "metadata": {
        "id": "7kOe8YaxPh2G",
        "colab_type": "code",
        "colab": {}
      },
      "source": [
        "a.insert(2,23)"
      ],
      "execution_count": 0,
      "outputs": []
    },
    {
      "cell_type": "code",
      "metadata": {
        "id": "qp8yRiaWPmEw",
        "colab_type": "code",
        "colab": {
          "base_uri": "https://localhost:8080/",
          "height": 34
        },
        "outputId": "793f1de2-8a35-425d-dad6-ddd8d0c1ec48"
      },
      "source": [
        "a"
      ],
      "execution_count": 21,
      "outputs": [
        {
          "output_type": "execute_result",
          "data": {
            "text/plain": [
              "[23, 34, 23, 45, 46, 67, 23]"
            ]
          },
          "metadata": {
            "tags": []
          },
          "execution_count": 21
        }
      ]
    },
    {
      "cell_type": "code",
      "metadata": {
        "id": "sm1WCWUcPmrf",
        "colab_type": "code",
        "colab": {
          "base_uri": "https://localhost:8080/",
          "height": 34
        },
        "outputId": "8861f431-8d58-4fcb-fd99-a8a8d1abd76c"
      },
      "source": [
        "a.index(23) #see first element"
      ],
      "execution_count": 22,
      "outputs": [
        {
          "output_type": "execute_result",
          "data": {
            "text/plain": [
              "0"
            ]
          },
          "metadata": {
            "tags": []
          },
          "execution_count": 22
        }
      ]
    },
    {
      "cell_type": "code",
      "metadata": {
        "id": "2fLarTf2PtmU",
        "colab_type": "code",
        "colab": {}
      },
      "source": [
        "a.remove(23)"
      ],
      "execution_count": 0,
      "outputs": []
    },
    {
      "cell_type": "code",
      "metadata": {
        "id": "QLLl9UzDP4kt",
        "colab_type": "code",
        "colab": {
          "base_uri": "https://localhost:8080/",
          "height": 34
        },
        "outputId": "7ce27fb0-755d-4987-afcb-1bd5a774edba"
      },
      "source": [
        "a.pop(-1)"
      ],
      "execution_count": 24,
      "outputs": [
        {
          "output_type": "execute_result",
          "data": {
            "text/plain": [
              "23"
            ]
          },
          "metadata": {
            "tags": []
          },
          "execution_count": 24
        }
      ]
    },
    {
      "cell_type": "markdown",
      "metadata": {
        "id": "Pi3-sU6lQHV_",
        "colab_type": "text"
      },
      "source": [
        "<h1>Sorting</h1>\n"
      ]
    },
    {
      "cell_type": "code",
      "metadata": {
        "id": "V-ACAcKoP_nl",
        "colab_type": "code",
        "colab": {}
      },
      "source": [
        "a = [2,3,7,1,8,4,9]\n",
        "a.sort()"
      ],
      "execution_count": 0,
      "outputs": []
    },
    {
      "cell_type": "code",
      "metadata": {
        "id": "BwT_c7GDQPrr",
        "colab_type": "code",
        "colab": {
          "base_uri": "https://localhost:8080/",
          "height": 34
        },
        "outputId": "1f237dc5-3ad4-4f8c-f3c0-d1567059dd86"
      },
      "source": [
        "a"
      ],
      "execution_count": 26,
      "outputs": [
        {
          "output_type": "execute_result",
          "data": {
            "text/plain": [
              "[1, 2, 3, 4, 7, 8, 9]"
            ]
          },
          "metadata": {
            "tags": []
          },
          "execution_count": 26
        }
      ]
    },
    {
      "cell_type": "markdown",
      "metadata": {
        "id": "58y-Qy9xRPNQ",
        "colab_type": "text"
      },
      "source": [
        "It's most common to pass a list into the sorted() function, but in fact it can take as input any sort of iterable collection. The older list.sort() method is an alternative detailed below. The sorted() function seems easier to use compared to sort(), so I recommend using sorted().\n",
        "\n",
        "The sorted() function can be customized through optional arguments. The sorted() optional argument reverse=True, e.g. sorted(list, reverse=True), makes it sort backwards."
      ]
    },
    {
      "cell_type": "code",
      "metadata": {
        "id": "biYWoQz6QRwv",
        "colab_type": "code",
        "colab": {
          "base_uri": "https://localhost:8080/",
          "height": 68
        },
        "outputId": "239e0848-c3f6-4a9c-dcca-393d555788ae"
      },
      "source": [
        "strs = ['aa', 'BB', 'zz', 'CC']\n",
        "print (sorted(strs))  ## ['BB', 'CC', 'aa', 'zz'] (case sensitive)\n",
        "print (sorted(strs, reverse=True))   ## ['zz', 'aa', 'CC', 'BB']"
      ],
      "execution_count": 27,
      "outputs": [
        {
          "output_type": "stream",
          "text": [
            "['BB', 'CC', 'aa', 'zz']\n",
            "['zz', 'aa', 'CC', 'BB']\n",
            "ERROR! Session/line number was not unique in database. History logging moved to new session 64\n"
          ],
          "name": "stdout"
        }
      ]
    },
    {
      "cell_type": "code",
      "metadata": {
        "id": "ib46bU4gQcSw",
        "colab_type": "code",
        "colab": {
          "base_uri": "https://localhost:8080/",
          "height": 34
        },
        "outputId": "0f074bcb-b2c4-4382-ea5a-20568cba6f15"
      },
      "source": [
        "strs = ['ccc', 'aaaa', 'd', 'bb']\n",
        "print (sorted(strs, key=len))  ## ['d', 'bb', 'ccc', 'aaaa']"
      ],
      "execution_count": 28,
      "outputs": [
        {
          "output_type": "stream",
          "text": [
            "['d', 'bb', 'ccc', 'aaaa']\n"
          ],
          "name": "stdout"
        }
      ]
    },
    {
      "cell_type": "code",
      "metadata": {
        "id": "RfPwKRBkQjPj",
        "colab_type": "code",
        "colab": {
          "base_uri": "https://localhost:8080/",
          "height": 34
        },
        "outputId": "70fd6d48-f77e-4e50-fd9e-099c26d5dcbd"
      },
      "source": [
        "print(sorted(strs, key=str.lower))"
      ],
      "execution_count": 29,
      "outputs": [
        {
          "output_type": "stream",
          "text": [
            "['aaaa', 'bb', 'ccc', 'd']\n"
          ],
          "name": "stdout"
        }
      ]
    },
    {
      "cell_type": "code",
      "metadata": {
        "id": "l2YEUGQwQp2P",
        "colab_type": "code",
        "colab": {
          "base_uri": "https://localhost:8080/",
          "height": 34
        },
        "outputId": "428262aa-b052-4b4a-b05e-d813e12512de"
      },
      "source": [
        " ## Say we have a list of strings we want to sort by the last letter of the string.\n",
        "strs = ['xc', 'zb', 'yd' ,'wa']\n",
        "\n",
        "## Write a little function that takes a string, and returns its last letter.\n",
        "## This will be the key function (takes in 1 value, returns 1 value).\n",
        "def MyFn(s):\n",
        "  return s[-1]\n",
        "\n",
        "## Now pass key=MyFn to sorted() to sort by the last letter:\n",
        "print (sorted(strs, key=MyFn))  ## ['wa', 'zb', 'xc', 'yd']"
      ],
      "execution_count": 30,
      "outputs": [
        {
          "output_type": "stream",
          "text": [
            "['wa', 'zb', 'xc', 'yd']\n"
          ],
          "name": "stdout"
        }
      ]
    },
    {
      "cell_type": "markdown",
      "metadata": {
        "id": "0pxnop-GQ19v",
        "colab_type": "text"
      },
      "source": [
        "<h1><b>Tuples</b></h1>"
      ]
    },
    {
      "cell_type": "markdown",
      "metadata": {
        "id": "kM4H_FW9Q7XG",
        "colab_type": "text"
      },
      "source": [
        "A tuple is a fixed size grouping of elements, such as an (x, y) co-ordinate. Tuples are like lists, except they are immutable and do not change size (tuples are not strictly immutable since one of the contained elements could be mutable). Tuples play a sort of \"struct\" role in Python -- a convenient way to pass around a little logical, fixed size bundle of values. A function that needs to return multiple values can just return a tuple of the values. For example, if I wanted to have a list of 3-d coordinates, the natural python representation would be a list of tuples, where each tuple is size 3 holding one (x, y, z) group."
      ]
    },
    {
      "cell_type": "code",
      "metadata": {
        "id": "Q-rQmcy1QyoH",
        "colab_type": "code",
        "colab": {
          "base_uri": "https://localhost:8080/",
          "height": 51
        },
        "outputId": "a1a8ead1-0e8d-42c3-ba82-bc010e3e7dfe"
      },
      "source": [
        "tuple = (1, 2, 'hi')\n",
        "print (len(tuple))  ## 3\n",
        "print (tuple[2])    ## hi\n",
        "#tuple[2] = 'bye'  ## NO, tuples cannot be changed\n",
        "tuple = (1, 2, 'bye')  ## this works"
      ],
      "execution_count": 32,
      "outputs": [
        {
          "output_type": "stream",
          "text": [
            "3\n",
            "hi\n"
          ],
          "name": "stdout"
        }
      ]
    },
    {
      "cell_type": "markdown",
      "metadata": {
        "id": "FbM6-lOuRh8G",
        "colab_type": "text"
      },
      "source": [
        "It's a funny case in the syntax, but the comma is necessary to distinguish the tuple from the ordinary case of putting an expression in parentheses. In some cases you can omit the parenthesis and Python will see from the commas that you intend a tuple.\n",
        "\n",
        "Assigning a tuple to an identically sized tuple of variable names assigns all the corresponding values. If the tuples are not the same size, it throws an error. This feature works for lists too."
      ]
    },
    {
      "cell_type": "code",
      "metadata": {
        "id": "AftseepYRayn",
        "colab_type": "code",
        "colab": {
          "base_uri": "https://localhost:8080/",
          "height": 34
        },
        "outputId": "1e90be90-9fdc-4707-a37b-6283d9def780"
      },
      "source": [
        "(x, y, z) = (42, 13, \"hike\")\n",
        "print (z)  ## hike\n",
        "#(err_string, err_code) = Foo()  ## Foo() returns a length-2 tuple"
      ],
      "execution_count": 34,
      "outputs": [
        {
          "output_type": "stream",
          "text": [
            "hike\n"
          ],
          "name": "stdout"
        }
      ]
    },
    {
      "cell_type": "markdown",
      "metadata": {
        "id": "bDEW9PgyR7hm",
        "colab_type": "text"
      },
      "source": [
        "<h1>List Comprehensions</h1>\n",
        "List comprehensions are a more advanced feature which is nice for some cases but is not needed for the exercises and is not something you need to learn at first (i.e. you can skip this section). A list comprehension is a compact way to write an expression that expands to a whole list. Suppose we have a list nums [1, 2, 3, 4], here is the list comprehension to compute a list of their squares [1, 4, 9, 16]:"
      ]
    },
    {
      "cell_type": "code",
      "metadata": {
        "id": "pX8TPH6qRutV",
        "colab_type": "code",
        "colab": {}
      },
      "source": [
        " nums = [1, 2, 3, 4]\n",
        "\n",
        "squares = [ n * n for n in nums ]   ## [1, 4, 9, 16]"
      ],
      "execution_count": 0,
      "outputs": []
    },
    {
      "cell_type": "code",
      "metadata": {
        "id": "oBzOjma4SCn0",
        "colab_type": "code",
        "colab": {}
      },
      "source": [
        ""
      ],
      "execution_count": 0,
      "outputs": []
    }
  ]
}