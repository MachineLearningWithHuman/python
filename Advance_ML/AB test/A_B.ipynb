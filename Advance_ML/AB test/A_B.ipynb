{
  "nbformat": 4,
  "nbformat_minor": 0,
  "metadata": {
    "colab": {
      "name": "A/B.ipynb",
      "version": "0.3.2",
      "provenance": []
    },
    "kernelspec": {
      "name": "python3",
      "display_name": "Python 3"
    }
  },
  "cells": [
    {
      "cell_type": "code",
      "metadata": {
        "id": "CXPyEAdyOFLz",
        "colab_type": "code",
        "colab": {
          "base_uri": "https://localhost:8080/",
          "height": 52
        },
        "outputId": "9c4cde0b-ba72-4f83-9788-917169579480"
      },
      "source": [
        "import numpy as np\n",
        "from scipy.stats import norm\n",
        "\n",
        "mu_B = 62\n",
        "mu_A = 60\n",
        "\n",
        "std_B = 45\n",
        "std_A = 40\n",
        "\n",
        "n_B = 4000\n",
        "n_A = 6000\n",
        "\n",
        "Z = (mu_B - mu_A)/np.sqrt(std_B**2/n_B + std_A**2/n_A)\n",
        "pvalue = norm.sf(Z)\n",
        "\n",
        "print(\"Z-score: {0}\\np-value: {1}\".format(Z,pvalue))"
      ],
      "execution_count": 1,
      "outputs": [
        {
          "output_type": "stream",
          "text": [
            "Z-score: 2.2749070654279993\n",
            "p-value: 0.011455752709549046\n"
          ],
          "name": "stdout"
        }
      ]
    },
    {
      "cell_type": "code",
      "metadata": {
        "id": "9goIxQycOhJa",
        "colab_type": "code",
        "colab": {
          "base_uri": "https://localhost:8080/",
          "height": 269
        },
        "outputId": "3a9daa5c-0d08-4120-90ec-d17d968e60bd"
      },
      "source": [
        "import matplotlib.pyplot as plt\n",
        "\n",
        "z = np.arange(-3, 3, 0.2)\n",
        "plt.plot(z, norm.pdf(z))\n",
        "plt.fill_between(z[z>Z], norm.pdf(z[z>Z]))\n",
        "plt.show()"
      ],
      "execution_count": 2,
      "outputs": [
        {
          "output_type": "display_data",
          "data": {
            "image/png": "[encoded data removed]",
            "text/plain": [
              "<Figure size 432x288 with 1 Axes>"
            ]
          },
          "metadata": {
            "tags": []
          }
        }
      ]
    },
    {
      "cell_type": "code",
      "metadata": {
        "id": "aDY8ibVrPcL9",
        "colab_type": "code",
        "colab": {
          "base_uri": "https://localhost:8080/",
          "height": 52
        },
        "outputId": "b2a59aa7-7eca-4398-c3ab-38d0a6eadddb"
      },
      "source": [
        "from scipy.stats import chi2\n",
        "import numpy as np\n",
        "\n",
        "T = np.array([102, 68, 5898, 3932])\n",
        "O = np.array([90, 80, 5910, 3920])\n",
        "\n",
        "D = np.sum(np.square(T-O)/T)\n",
        "\n",
        "pvalue = chi2.sf(D, df=1)\n",
        "\n",
        "print(\"distance d: {0}\\np-value: {1}\".format(D,pvalue))"
      ],
      "execution_count": 3,
      "outputs": [
        {
          "output_type": "stream",
          "text": [
            "distance d: 3.590449404583807\n",
            "p-value: 0.05811252579106675\n"
          ],
          "name": "stdout"
        }
      ]
    },
    {
      "cell_type": "code",
      "metadata": {
        "id": "KhzyC6DiPc4J",
        "colab_type": "code",
        "colab": {
          "base_uri": "https://localhost:8080/",
          "height": 269
        },
        "outputId": "1876e1ed-ea4a-487b-bdc4-e063886bca9f"
      },
      "source": [
        "import matplotlib.pyplot as plt\n",
        "\n",
        "d = np.arange(0, 5, 0.1)\n",
        "plt.plot(d, chi2.pdf(d, df=1))\n",
        "plt.fill_between(d[d>D], chi2.pdf(d[d>D], df=1))\n",
        "plt.show()"
      ],
      "execution_count": 4,
      "outputs": [
        {
          "output_type": "display_data",
          "data": {
            "image/png": "[encoded data removed]",
            "text/plain": [
              "<Figure size 432x288 with 1 Axes>"
            ]
          },
          "metadata": {
            "tags": []
          }
        }
      ]
    },
    {
      "cell_type": "code",
      "metadata": {
        "id": "bYBtd9LFPih8",
        "colab_type": "code",
        "colab": {}
      },
      "source": [
        ""
      ],
      "execution_count": 0,
      "outputs": []
    }
  ]
}