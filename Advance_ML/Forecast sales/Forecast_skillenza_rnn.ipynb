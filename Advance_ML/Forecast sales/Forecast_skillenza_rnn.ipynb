{
  "nbformat": 4,
  "nbformat_minor": 0,
  "metadata": {
    "colab": {
      "name": "Forecast_skillenza.ipynb",
      "provenance": []
    },
    "kernelspec": {
      "name": "python3",
      "display_name": "Python 3"
    }
  },
  "cells": [
    {
      "cell_type": "code",
      "metadata": {
        "id": "vwOSI8Cq-LVv",
        "colab_type": "code",
        "colab": {
          "base_uri": "https://localhost:8080/",
          "height": 65
        },
        "outputId": "4bd3598b-3c9b-4576-a209-c6ff95d0a7a2"
      },
      "source": [
        "from __future__ import absolute_import, division, print_function, unicode_literals\n",
        "import tensorflow as tf\n",
        "\n",
        "import matplotlib as mpl\n",
        "import matplotlib.pyplot as plt\n",
        "import numpy as np\n",
        "import os\n",
        "import pandas as pd\n",
        "\n",
        "mpl.rcParams['figure.figsize'] = (12, 8)\n",
        "mpl.rcParams['axes.grid'] = False\n",
        "tf.executing_eagerly()\n",
        "tf.compat.v1.enable_eager_execution()"
      ],
      "execution_count": 1,
      "outputs": [
        {
          "output_type": "display_data",
          "data": {
            "text/html": [
              "<p style=\"color: red;\">\n",
              "The default version of TensorFlow in Colab will soon switch to TensorFlow 2.x.<br>\n",
              "We recommend you <a href=\"https://www.tensorflow.org/guide/migrate\" target=\"_blank\">upgrade</a> now \n",
              "or ensure your notebook will continue to use TensorFlow 1.x via the <code>%tensorflow_version 1.x</code> magic:\n",
              "<a href=\"https://colab.research.google.com/notebooks/tensorflow_version.ipynb\" target=\"_blank\">more info</a>.</p>\n"
            ],
            "text/plain": [
              "<IPython.core.display.HTML object>"
            ]
          },
          "metadata": {
            "tags": []
          }
        }
      ]
    },
    {
      "cell_type": "code",
      "metadata": {
        "id": "yINv_80R-r3H",
        "colab_type": "code",
        "colab": {
          "base_uri": "https://localhost:8080/",
          "height": 305
        },
        "outputId": "92317c8b-9248-4c02-ed9d-1370a68da8e7"
      },
      "source": [
        "df = pd.read_excel(\"Test dataset v1.xlsx\")\n",
        "df.head()"
      ],
      "execution_count": 34,
      "outputs": [
        {
          "output_type": "execute_result",
          "data": {
            "text/html": [
              "<div>\n",
              "<style scoped>\n",
              "    .dataframe tbody tr th:only-of-type {\n",
              "        vertical-align: middle;\n",
              "    }\n",
              "\n",
              "    .dataframe tbody tr th {\n",
              "        vertical-align: top;\n",
              "    }\n",
              "\n",
              "    .dataframe thead th {\n",
              "        text-align: right;\n",
              "    }\n",
              "</style>\n",
              "<table border=\"1\" class=\"dataframe\">\n",
              "  <thead>\n",
              "    <tr style=\"text-align: right;\">\n",
              "      <th></th>\n",
              "      <th>Period</th>\n",
              "      <th>EQ</th>\n",
              "      <th>Social_Search_Impressions</th>\n",
              "      <th>Social_Search_Working_cost</th>\n",
              "      <th>Digital_Impressions</th>\n",
              "      <th>Digital_Working_cost</th>\n",
              "      <th>Print_Impressions.Ads40</th>\n",
              "      <th>Print_Working_Cost.Ads50</th>\n",
              "      <th>OOH_Impressions</th>\n",
              "      <th>OOH_Working_Cost</th>\n",
              "      <th>SOS_pct</th>\n",
              "      <th>Digital_Impressions_pct</th>\n",
              "      <th>CCFOT</th>\n",
              "      <th>Median_Temp</th>\n",
              "      <th>Median_Rainfall</th>\n",
              "      <th>Fuel_Price</th>\n",
              "      <th>Inflation</th>\n",
              "      <th>Trade_Invest</th>\n",
              "      <th>Brand_Equity</th>\n",
              "      <th>Avg_EQ_Price</th>\n",
              "      <th>Any_Promo_pct_ACV</th>\n",
              "      <th>Any_Feat_pct_ACV</th>\n",
              "      <th>Any_Disp_pct_ACV</th>\n",
              "      <th>EQ_Base_Price</th>\n",
              "      <th>Est_ACV_Selling</th>\n",
              "      <th>pct_ACV</th>\n",
              "      <th>Avg_no_of_Items</th>\n",
              "      <th>pct_PromoMarketDollars_Category</th>\n",
              "      <th>RPI_Category</th>\n",
              "      <th>Magazine_Impressions_pct</th>\n",
              "      <th>TV_GRP</th>\n",
              "      <th>Competitor1_RPI</th>\n",
              "      <th>Competitor2_RPI</th>\n",
              "      <th>Competitor3_RPI</th>\n",
              "      <th>Competitor4_RPI</th>\n",
              "      <th>EQ_Category</th>\n",
              "      <th>EQ_Subcategory</th>\n",
              "      <th>pct_PromoMarketDollars_Subcategory</th>\n",
              "      <th>RPI_Subcategory</th>\n",
              "    </tr>\n",
              "  </thead>\n",
              "  <tbody>\n",
              "    <tr>\n",
              "      <th>0</th>\n",
              "      <td>2016 - Period:1</td>\n",
              "      <td>504.784933</td>\n",
              "      <td>2019283.0</td>\n",
              "      <td>5493.0</td>\n",
              "      <td>37148.2</td>\n",
              "      <td>2045.282</td>\n",
              "      <td>0.000012</td>\n",
              "      <td>0.000012</td>\n",
              "      <td>1.203045e+09</td>\n",
              "      <td>2220633.0</td>\n",
              "      <td>7.446883</td>\n",
              "      <td>16.0</td>\n",
              "      <td>100.0</td>\n",
              "      <td>32.950</td>\n",
              "      <td>0.5150</td>\n",
              "      <td>8.226</td>\n",
              "      <td>0.013258</td>\n",
              "      <td>42744.256840</td>\n",
              "      <td>42.410000</td>\n",
              "      <td>49.091447</td>\n",
              "      <td>9.691794</td>\n",
              "      <td>2.87</td>\n",
              "      <td>1.688896</td>\n",
              "      <td>1.427532</td>\n",
              "      <td>8696587915</td>\n",
              "      <td>39.441025</td>\n",
              "      <td>2.611782</td>\n",
              "      <td>0.0339</td>\n",
              "      <td>35.817030</td>\n",
              "      <td>27.702433</td>\n",
              "      <td>21.300</td>\n",
              "      <td>97.173365</td>\n",
              "      <td>35.557371</td>\n",
              "      <td>44.502717</td>\n",
              "      <td>63.377268</td>\n",
              "      <td>1728388.673</td>\n",
              "      <td>331927.5394</td>\n",
              "      <td>0.162732</td>\n",
              "      <td>40.560563</td>\n",
              "    </tr>\n",
              "    <tr>\n",
              "      <th>1</th>\n",
              "      <td>2016 - Period:2</td>\n",
              "      <td>490.226477</td>\n",
              "      <td>4564738.0</td>\n",
              "      <td>12938.0</td>\n",
              "      <td>50886.8</td>\n",
              "      <td>2370.584</td>\n",
              "      <td>0.000014</td>\n",
              "      <td>0.000015</td>\n",
              "      <td>1.944356e+09</td>\n",
              "      <td>469895.0</td>\n",
              "      <td>11.677082</td>\n",
              "      <td>5.0</td>\n",
              "      <td>87.5</td>\n",
              "      <td>34.625</td>\n",
              "      <td>0.2700</td>\n",
              "      <td>7.473</td>\n",
              "      <td>0.009938</td>\n",
              "      <td>36290.439557</td>\n",
              "      <td>42.410000</td>\n",
              "      <td>49.057612</td>\n",
              "      <td>9.415938</td>\n",
              "      <td>2.87</td>\n",
              "      <td>1.687952</td>\n",
              "      <td>1.442716</td>\n",
              "      <td>8682307085</td>\n",
              "      <td>38.417224</td>\n",
              "      <td>2.522814</td>\n",
              "      <td>0.0391</td>\n",
              "      <td>36.389065</td>\n",
              "      <td>21.432628</td>\n",
              "      <td>12.334</td>\n",
              "      <td>97.850760</td>\n",
              "      <td>37.223072</td>\n",
              "      <td>45.720077</td>\n",
              "      <td>62.731742</td>\n",
              "      <td>1900859.879</td>\n",
              "      <td>334611.3806</td>\n",
              "      <td>0.231650</td>\n",
              "      <td>40.046301</td>\n",
              "    </tr>\n",
              "    <tr>\n",
              "      <th>2</th>\n",
              "      <td>2016 - Period:3</td>\n",
              "      <td>479.244686</td>\n",
              "      <td>1029384.0</td>\n",
              "      <td>6546.0</td>\n",
              "      <td>253333.2</td>\n",
              "      <td>3180.888</td>\n",
              "      <td>0.000016</td>\n",
              "      <td>0.000017</td>\n",
              "      <td>9.984054e+08</td>\n",
              "      <td>4465061.0</td>\n",
              "      <td>0.102858</td>\n",
              "      <td>46.0</td>\n",
              "      <td>96.0</td>\n",
              "      <td>46.700</td>\n",
              "      <td>0.3900</td>\n",
              "      <td>8.001</td>\n",
              "      <td>0.007832</td>\n",
              "      <td>34852.141656</td>\n",
              "      <td>42.410000</td>\n",
              "      <td>49.367514</td>\n",
              "      <td>5.176684</td>\n",
              "      <td>2.87</td>\n",
              "      <td>1.834440</td>\n",
              "      <td>1.423408</td>\n",
              "      <td>8706897549</td>\n",
              "      <td>36.499442</td>\n",
              "      <td>2.477322</td>\n",
              "      <td>0.0228</td>\n",
              "      <td>36.599984</td>\n",
              "      <td>29.726275</td>\n",
              "      <td>23.213</td>\n",
              "      <td>96.397739</td>\n",
              "      <td>40.800563</td>\n",
              "      <td>41.822953</td>\n",
              "      <td>62.090417</td>\n",
              "      <td>2036436.906</td>\n",
              "      <td>387148.3582</td>\n",
              "      <td>0.125394</td>\n",
              "      <td>40.411115</td>\n",
              "    </tr>\n",
              "    <tr>\n",
              "      <th>3</th>\n",
              "      <td>2016 - Period:4</td>\n",
              "      <td>489.057428</td>\n",
              "      <td>902938.0</td>\n",
              "      <td>3928.0</td>\n",
              "      <td>3426239.0</td>\n",
              "      <td>13595.398</td>\n",
              "      <td>0.000016</td>\n",
              "      <td>0.000019</td>\n",
              "      <td>3.039816e+09</td>\n",
              "      <td>1031855.0</td>\n",
              "      <td>0.249055</td>\n",
              "      <td>48.0</td>\n",
              "      <td>100.0</td>\n",
              "      <td>49.650</td>\n",
              "      <td>0.3500</td>\n",
              "      <td>8.767</td>\n",
              "      <td>0.010034</td>\n",
              "      <td>24869.558988</td>\n",
              "      <td>43.543571</td>\n",
              "      <td>50.657634</td>\n",
              "      <td>6.088273</td>\n",
              "      <td>2.87</td>\n",
              "      <td>2.444000</td>\n",
              "      <td>1.443401</td>\n",
              "      <td>8660288592</td>\n",
              "      <td>38.135159</td>\n",
              "      <td>2.520409</td>\n",
              "      <td>0.0147</td>\n",
              "      <td>38.201852</td>\n",
              "      <td>30.326275</td>\n",
              "      <td>14.456</td>\n",
              "      <td>98.936519</td>\n",
              "      <td>36.576140</td>\n",
              "      <td>41.578429</td>\n",
              "      <td>63.374358</td>\n",
              "      <td>2113635.013</td>\n",
              "      <td>482489.6740</td>\n",
              "      <td>0.056603</td>\n",
              "      <td>42.213246</td>\n",
              "    </tr>\n",
              "    <tr>\n",
              "      <th>4</th>\n",
              "      <td>2016 - Period:5</td>\n",
              "      <td>477.031994</td>\n",
              "      <td>1343454.0</td>\n",
              "      <td>28374.0</td>\n",
              "      <td>552197.8</td>\n",
              "      <td>3983.134</td>\n",
              "      <td>0.000016</td>\n",
              "      <td>0.000019</td>\n",
              "      <td>9.622004e+08</td>\n",
              "      <td>2842722.0</td>\n",
              "      <td>13.338804</td>\n",
              "      <td>19.0</td>\n",
              "      <td>100.0</td>\n",
              "      <td>58.100</td>\n",
              "      <td>0.5025</td>\n",
              "      <td>9.277</td>\n",
              "      <td>0.009546</td>\n",
              "      <td>61675.321620</td>\n",
              "      <td>43.790000</td>\n",
              "      <td>50.625777</td>\n",
              "      <td>7.827112</td>\n",
              "      <td>1.87</td>\n",
              "      <td>0.170731</td>\n",
              "      <td>1.473687</td>\n",
              "      <td>8644518558</td>\n",
              "      <td>38.629564</td>\n",
              "      <td>2.497285</td>\n",
              "      <td>0.0219</td>\n",
              "      <td>38.648805</td>\n",
              "      <td>31.702433</td>\n",
              "      <td>25.300</td>\n",
              "      <td>100.509969</td>\n",
              "      <td>36.032016</td>\n",
              "      <td>42.602412</td>\n",
              "      <td>63.291934</td>\n",
              "      <td>2402211.102</td>\n",
              "      <td>629826.6484</td>\n",
              "      <td>0.065059</td>\n",
              "      <td>43.345578</td>\n",
              "    </tr>\n",
              "  </tbody>\n",
              "</table>\n",
              "</div>"
            ],
            "text/plain": [
              "            Period  ...  RPI_Subcategory\n",
              "0  2016 - Period:1  ...        40.560563\n",
              "1  2016 - Period:2  ...        40.046301\n",
              "2  2016 - Period:3  ...        40.411115\n",
              "3  2016 - Period:4  ...        42.213246\n",
              "4  2016 - Period:5  ...        43.345578\n",
              "\n",
              "[5 rows x 39 columns]"
            ]
          },
          "metadata": {
            "tags": []
          },
          "execution_count": 34
        }
      ]
    },
    {
      "cell_type": "code",
      "metadata": {
        "id": "fne1tPTf_YNL",
        "colab_type": "code",
        "colab": {}
      },
      "source": [
        "def univariate_data(dataset, start_index, end_index, history_size, target_size):\n",
        "  data = []\n",
        "  labels = []\n",
        "\n",
        "  start_index = start_index + history_size\n",
        "  if end_index is None:\n",
        "    end_index = len(dataset) - target_size\n",
        "\n",
        "  for i in range(start_index, end_index):\n",
        "    indices = range(i-history_size, i)\n",
        "    # Reshape data from (history_size,) to (history_size, 1)\n",
        "    data.append(np.reshape(dataset[indices], (history_size, 1)))\n",
        "    labels.append(dataset[i+target_size])\n",
        "  return np.array(data), np.array(labels)"
      ],
      "execution_count": 0,
      "outputs": []
    },
    {
      "cell_type": "code",
      "metadata": {
        "id": "Byj-M2Z1AGyb",
        "colab_type": "code",
        "colab": {}
      },
      "source": [
        "TRAIN_SPLIT = 30"
      ],
      "execution_count": 0,
      "outputs": []
    },
    {
      "cell_type": "code",
      "metadata": {
        "id": "AL1QIj1wBnhx",
        "colab_type": "code",
        "colab": {}
      },
      "source": [
        "tf.random.set_random_seed(13)"
      ],
      "execution_count": 0,
      "outputs": []
    },
    {
      "cell_type": "code",
      "metadata": {
        "id": "W8FrByVFBvSO",
        "colab_type": "code",
        "colab": {
          "base_uri": "https://localhost:8080/",
          "height": 145
        },
        "outputId": "dd812596-0e49-4f87-9872-e0110a296ff5"
      },
      "source": [
        "uni_data = df[\"EQ\"]\n",
        "uni_data.index = df[\"Period\"]\n",
        "uni_data.head()"
      ],
      "execution_count": 38,
      "outputs": [
        {
          "output_type": "execute_result",
          "data": {
            "text/plain": [
              "Period\n",
              "2016 - Period:1    504.784933\n",
              "2016 - Period:2    490.226477\n",
              "2016 - Period:3    479.244686\n",
              "2016 - Period:4    489.057428\n",
              "2016 - Period:5    477.031994\n",
              "Name: EQ, dtype: float64"
            ]
          },
          "metadata": {
            "tags": []
          },
          "execution_count": 38
        }
      ]
    },
    {
      "cell_type": "code",
      "metadata": {
        "id": "JUhzrMUWCVyw",
        "colab_type": "code",
        "colab": {
          "base_uri": "https://localhost:8080/",
          "height": 529
        },
        "outputId": "bb2f7b0e-38e3-400f-a07c-8dbaa9c96632"
      },
      "source": [
        "uni_data.plot(subplots=True)"
      ],
      "execution_count": 39,
      "outputs": [
        {
          "output_type": "execute_result",
          "data": {
            "text/plain": [
              "array([<matplotlib.axes._subplots.AxesSubplot object at 0x7fadd42d3d30>],\n",
              "      dtype=object)"
            ]
          },
          "metadata": {
            "tags": []
          },
          "execution_count": 39
        },
        {
          "output_type": "display_data",
          "data": {
            "image/png": "[encoded data removed]",
            "text/plain": [
              "<Figure size 864x576 with 1 Axes>"
            ]
          },
          "metadata": {
            "tags": []
          }
        }
      ]
    },
    {
      "cell_type": "code",
      "metadata": {
        "id": "n0bK6uHqCaTy",
        "colab_type": "code",
        "colab": {}
      },
      "source": [
        "uni_data = uni_data.values"
      ],
      "execution_count": 0,
      "outputs": []
    },
    {
      "cell_type": "code",
      "metadata": {
        "id": "UeFSTyx-CnGn",
        "colab_type": "code",
        "colab": {}
      },
      "source": [
        "uni_train_mean = uni_data[:TRAIN_SPLIT].mean()\n",
        "uni_train_std = uni_data[:TRAIN_SPLIT].std()"
      ],
      "execution_count": 0,
      "outputs": []
    },
    {
      "cell_type": "code",
      "metadata": {
        "id": "ZzKLyjHXCy02",
        "colab_type": "code",
        "colab": {}
      },
      "source": [
        "uni_data = (uni_data-uni_train_mean)/uni_train_std"
      ],
      "execution_count": 0,
      "outputs": []
    },
    {
      "cell_type": "code",
      "metadata": {
        "id": "XEKkOq86C09Q",
        "colab_type": "code",
        "colab": {}
      },
      "source": [
        "univariate_past_history = 4\n",
        "univariate_future_target = 0\n",
        "\n",
        "x_train_uni, y_train_uni = univariate_data(uni_data, 0, TRAIN_SPLIT,\n",
        "                                           univariate_past_history,\n",
        "                                           univariate_future_target)\n",
        "x_val_uni, y_val_uni = univariate_data(uni_data, TRAIN_SPLIT, None,\n",
        "                                       univariate_past_history,\n",
        "                                       univariate_future_target)"
      ],
      "execution_count": 0,
      "outputs": []
    },
    {
      "cell_type": "code",
      "metadata": {
        "id": "WEPVA4HzDIuI",
        "colab_type": "code",
        "colab": {
          "base_uri": "https://localhost:8080/",
          "height": 163
        },
        "outputId": "272eb014-435e-4cf2-b03c-4af8e6a09765"
      },
      "source": [
        "print ('Single window of past history')\n",
        "print (x_train_uni[0])\n",
        "print ('\\n Target temperature to predict')\n",
        "print (y_train_uni[0])"
      ],
      "execution_count": 44,
      "outputs": [
        {
          "output_type": "stream",
          "text": [
            "Single window of past history\n",
            "[[1.42184936]\n",
            " [1.28694378]\n",
            " [1.18518127]\n",
            " [1.27611081]]\n",
            "\n",
            " Target temperature to predict\n",
            "1.1646774173594237\n"
          ],
          "name": "stdout"
        }
      ]
    },
    {
      "cell_type": "code",
      "metadata": {
        "id": "G5ZsPpjLDVMx",
        "colab_type": "code",
        "colab": {}
      },
      "source": [
        "def create_time_steps(length):\n",
        "  return list(range(-length, 0))"
      ],
      "execution_count": 0,
      "outputs": []
    },
    {
      "cell_type": "code",
      "metadata": {
        "id": "C7-RmP-CEflP",
        "colab_type": "code",
        "colab": {}
      },
      "source": [
        "def show_plot(plot_data, delta, title):\n",
        "  labels = ['History', 'True Future', 'Model Prediction']\n",
        "  marker = ['.-', 'rx', 'go']\n",
        "  time_steps = create_time_steps(plot_data[0].shape[0])\n",
        "  if delta:\n",
        "    future = delta\n",
        "  else:\n",
        "    future = 0\n",
        "\n",
        "  plt.title(title)\n",
        "  for i, x in enumerate(plot_data):\n",
        "    if i:\n",
        "      plt.plot(future, plot_data[i], marker[i], markersize=10,\n",
        "               label=labels[i])\n",
        "    else:\n",
        "      plt.plot(time_steps, plot_data[i].flatten(), marker[i], label=labels[i])\n",
        "  plt.legend()\n",
        "  plt.xlim([time_steps[0], (future+5)*2])\n",
        "  plt.xlabel('Time-Step')\n",
        "  return plt"
      ],
      "execution_count": 0,
      "outputs": []
    },
    {
      "cell_type": "code",
      "metadata": {
        "id": "DNW7X3bCEm44",
        "colab_type": "code",
        "colab": {
          "base_uri": "https://localhost:8080/",
          "height": 531
        },
        "outputId": "f5548ab8-3c28-4667-d84f-85d3fbb4c964"
      },
      "source": [
        "show_plot([x_train_uni[0], y_train_uni[0]], 0, 'Sample Example')"
      ],
      "execution_count": 47,
      "outputs": [
        {
          "output_type": "execute_result",
          "data": {
            "text/plain": [
              "<module 'matplotlib.pyplot' from '/usr/local/lib/python3.6/dist-packages/matplotlib/pyplot.py'>"
            ]
          },
          "metadata": {
            "tags": []
          },
          "execution_count": 47
        },
        {
          "output_type": "display_data",
          "data": {
            "image/png": "[encoded data removed]",
            "text/plain": [
              "<Figure size 864x576 with 1 Axes>"
            ]
          },
          "metadata": {
            "tags": []
          }
        }
      ]
    },
    {
      "cell_type": "code",
      "metadata": {
        "id": "8oxmRGbXEqYz",
        "colab_type": "code",
        "colab": {}
      },
      "source": [
        "def baseline(history):\n",
        "  return np.mean(history)"
      ],
      "execution_count": 0,
      "outputs": []
    },
    {
      "cell_type": "code",
      "metadata": {
        "id": "8RKLeuKpE1Y9",
        "colab_type": "code",
        "colab": {
          "base_uri": "https://localhost:8080/",
          "height": 531
        },
        "outputId": "754e5680-ed69-44ee-d725-9f6966285623"
      },
      "source": [
        "show_plot([x_train_uni[0], y_train_uni[0], baseline(x_train_uni[0])], 0,\n",
        "           'Baseline Prediction Example')"
      ],
      "execution_count": 49,
      "outputs": [
        {
          "output_type": "execute_result",
          "data": {
            "text/plain": [
              "<module 'matplotlib.pyplot' from '/usr/local/lib/python3.6/dist-packages/matplotlib/pyplot.py'>"
            ]
          },
          "metadata": {
            "tags": []
          },
          "execution_count": 49
        },
        {
          "output_type": "display_data",
          "data": {
            "image/png": "[encoded data removed]",
            "text/plain": [
              "<Figure size 864x576 with 1 Axes>"
            ]
          },
          "metadata": {
            "tags": []
          }
        }
      ]
    },
    {
      "cell_type": "code",
      "metadata": {
        "id": "VIlpf6KkE4OC",
        "colab_type": "code",
        "colab": {}
      },
      "source": [
        "BATCH_SIZE = 256\n",
        "BUFFER_SIZE = 10000\n",
        "\n",
        "train_univariate = tf.data.Dataset.from_tensor_slices((x_train_uni, y_train_uni))\n",
        "train_univariate = train_univariate.cache().shuffle(BUFFER_SIZE).batch(BATCH_SIZE).repeat()\n",
        "\n",
        "val_univariate = tf.data.Dataset.from_tensor_slices((x_val_uni, y_val_uni))\n",
        "val_univariate = val_univariate.batch(BATCH_SIZE).repeat()"
      ],
      "execution_count": 0,
      "outputs": []
    },
    {
      "cell_type": "code",
      "metadata": {
        "id": "KFUPbEsxFO1J",
        "colab_type": "code",
        "colab": {}
      },
      "source": [
        "simple_lstm_model = tf.keras.models.Sequential([\n",
        "    tf.keras.layers.LSTM(8, input_shape=x_train_uni.shape[-2:]),\n",
        "    tf.keras.layers.Dense(1)\n",
        "])\n",
        "\n",
        "simple_lstm_model.compile(optimizer='adam', loss='mae')"
      ],
      "execution_count": 0,
      "outputs": []
    },
    {
      "cell_type": "code",
      "metadata": {
        "id": "NwT0SwziFcDu",
        "colab_type": "code",
        "colab": {
          "base_uri": "https://localhost:8080/",
          "height": 35
        },
        "outputId": "a60c68a1-47b2-4daf-82e8-ac399a6e1690"
      },
      "source": [
        "for x, y in val_univariate.take(1):\n",
        "    print(simple_lstm_model.predict(x).shape)"
      ],
      "execution_count": 52,
      "outputs": [
        {
          "output_type": "stream",
          "text": [
            "(5, 1)\n"
          ],
          "name": "stdout"
        }
      ]
    },
    {
      "cell_type": "code",
      "metadata": {
        "id": "eeJoY4IfFg2Y",
        "colab_type": "code",
        "colab": {
          "base_uri": "https://localhost:8080/",
          "height": 235
        },
        "outputId": "8ff7507b-b7ae-49fd-b5bd-6de726f7d219"
      },
      "source": [
        "EVALUATION_INTERVAL = 2\n",
        "EPOCHS = 5\n",
        "\n",
        "simple_lstm_model.fit(train_univariate, epochs=EPOCHS,\n",
        "                      steps_per_epoch=EVALUATION_INTERVAL,\n",
        "                      validation_data=val_univariate, validation_steps=50)"
      ],
      "execution_count": 55,
      "outputs": [
        {
          "output_type": "stream",
          "text": [
            "Train for 2 steps, validate for 50 steps\n",
            "Epoch 1/5\n",
            "2/2 [==============================] - 0s 60ms/step - loss: 0.2966 - val_loss: 0.5556\n",
            "Epoch 2/5\n",
            "2/2 [==============================] - 0s 48ms/step - loss: 0.2966 - val_loss: 0.5603\n",
            "Epoch 3/5\n",
            "2/2 [==============================] - 0s 48ms/step - loss: 0.2965 - val_loss: 0.5580\n",
            "Epoch 4/5\n",
            "2/2 [==============================] - 0s 46ms/step - loss: 0.2959 - val_loss: 0.5600\n",
            "Epoch 5/5\n",
            "2/2 [==============================] - 0s 48ms/step - loss: 0.2957 - val_loss: 0.5592\n"
          ],
          "name": "stdout"
        },
        {
          "output_type": "execute_result",
          "data": {
            "text/plain": [
              "<tensorflow.python.keras.callbacks.History at 0x7fadb7f19c50>"
            ]
          },
          "metadata": {
            "tags": []
          },
          "execution_count": 55
        }
      ]
    },
    {
      "cell_type": "code",
      "metadata": {
        "id": "bz5sCC6iHG1O",
        "colab_type": "code",
        "colab": {
          "base_uri": "https://localhost:8080/",
          "height": 1000
        },
        "outputId": "f97afacd-a807-4738-881b-9a0702aef7cc"
      },
      "source": [
        "for x, y in val_univariate.take(3):\n",
        "  plot = show_plot([x[0].numpy(), y[0].numpy(),\n",
        "                    simple_lstm_model.predict(x)[0]], 0, 'Simple LSTM model')\n",
        "  plot.show()"
      ],
      "execution_count": 56,
      "outputs": [
        {
          "output_type": "display_data",
          "data": {
            "image/png": "[encoded data removed]",
            "text/plain": [
              "<Figure size 864x576 with 1 Axes>"
            ]
          },
          "metadata": {
            "tags": []
          }
        },
        {
          "output_type": "display_data",
          "data": {
            "image/png": "[encoded data removed]",
            "text/plain": [
              "<Figure size 864x576 with 1 Axes>"
            ]
          },
          "metadata": {
            "tags": []
          }
        },
        {
          "output_type": "display_data",
          "data": {
            "image/png": "[encoded data removed]",
            "text/plain": [
              "<Figure size 864x576 with 1 Axes>"
            ]
          },
          "metadata": {
            "tags": []
          }
        }
      ]
    },
    {
      "cell_type": "code",
      "metadata": {
        "id": "TWtQZsJ3HPgG",
        "colab_type": "code",
        "colab": {}
      },
      "source": [
        ""
      ],
      "execution_count": 0,
      "outputs": []
    }
  ]
}