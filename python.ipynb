{
  "nbformat": 4,
  "nbformat_minor": 0,
  "metadata": {
    "colab": {
      "name": "python.ipynb",
      "provenance": [],
      "authorship_tag": "ABX9TyOErtG/aSruoLAKFxPad22X",
      "include_colab_link": true
    },
    "kernelspec": {
      "name": "python3",
      "display_name": "Python 3"
    },
    "language_info": {
      "name": "python"
    }
  },
  "cells": [
    {
      "cell_type": "markdown",
      "metadata": {
        "id": "view-in-github",
        "colab_type": "text"
      },
      "source": [
        "<a href=\"https://colab.research.google.com/github/MachineLearningWithHuman/python/blob/master/python.ipynb\" target=\"_parent\"><img src=\"https://colab.research.google.com/assets/colab-badge.svg\" alt=\"Open In Colab\"/></a>"
      ]
    },
    {
      "cell_type": "markdown",
      "metadata": {
        "id": "h6sWQNTHC76V"
      },
      "source": [
        "# Math "
      ]
    },
    {
      "cell_type": "code",
      "metadata": {
        "colab": {
          "base_uri": "https://localhost:8080/"
        },
        "id": "FSRSgpO-CIBT",
        "outputId": "27f5df7c-9968-40ca-ce16-2335c46c675d"
      },
      "source": [
        "2+4"
      ],
      "execution_count": null,
      "outputs": [
        {
          "output_type": "execute_result",
          "data": {
            "text/plain": [
              "6"
            ]
          },
          "metadata": {
            "tags": []
          },
          "execution_count": 1
        }
      ]
    },
    {
      "cell_type": "code",
      "metadata": {
        "colab": {
          "base_uri": "https://localhost:8080/"
        },
        "id": "a6-x32m9CMVv",
        "outputId": "b2944dfb-6a27-4d91-cb05-7363b7e31390"
      },
      "source": [
        "2 + (4/6) +((5+9)/4)"
      ],
      "execution_count": null,
      "outputs": [
        {
          "output_type": "execute_result",
          "data": {
            "text/plain": [
              "6.166666666666666"
            ]
          },
          "metadata": {
            "tags": []
          },
          "execution_count": 2
        }
      ]
    },
    {
      "cell_type": "code",
      "metadata": {
        "colab": {
          "base_uri": "https://localhost:8080/"
        },
        "id": "KIV-clIiCh2g",
        "outputId": "17bab453-17e3-4bba-c679-3e7b69b63aa4"
      },
      "source": [
        "2 + 4/6 + 5+9/4"
      ],
      "execution_count": null,
      "outputs": [
        {
          "output_type": "execute_result",
          "data": {
            "text/plain": [
              "9.916666666666666"
            ]
          },
          "metadata": {
            "tags": []
          },
          "execution_count": 3
        }
      ]
    },
    {
      "cell_type": "code",
      "metadata": {
        "colab": {
          "base_uri": "https://localhost:8080/"
        },
        "id": "Ng7oQLsjClIP",
        "outputId": "5de99031-8106-46e6-becd-5d14bc16248f"
      },
      "source": [
        "import math\n",
        "math.sqrt(4)"
      ],
      "execution_count": null,
      "outputs": [
        {
          "output_type": "execute_result",
          "data": {
            "text/plain": [
              "2.0"
            ]
          },
          "metadata": {
            "tags": []
          },
          "execution_count": 4
        }
      ]
    },
    {
      "cell_type": "code",
      "metadata": {
        "colab": {
          "base_uri": "https://localhost:8080/"
        },
        "id": "EQu4X9gBCt0H",
        "outputId": "e169f0bb-3c4b-462d-e763-b8a2a5c14ff7"
      },
      "source": [
        "math.ceil(2.7)"
      ],
      "execution_count": null,
      "outputs": [
        {
          "output_type": "execute_result",
          "data": {
            "text/plain": [
              "3"
            ]
          },
          "metadata": {
            "tags": []
          },
          "execution_count": 5
        }
      ]
    },
    {
      "cell_type": "code",
      "metadata": {
        "colab": {
          "base_uri": "https://localhost:8080/"
        },
        "id": "4WORL2R8Cx-j",
        "outputId": "ec036c6d-bff9-4383-abe6-51545c32a669"
      },
      "source": [
        "math.floor(2.7)"
      ],
      "execution_count": null,
      "outputs": [
        {
          "output_type": "execute_result",
          "data": {
            "text/plain": [
              "2"
            ]
          },
          "metadata": {
            "tags": []
          },
          "execution_count": 6
        }
      ]
    },
    {
      "cell_type": "code",
      "metadata": {
        "colab": {
          "base_uri": "https://localhost:8080/"
        },
        "id": "-gmRvSEfC1gU",
        "outputId": "5adbb271-adc7-4bdd-e9de-6d93c63a6fb6"
      },
      "source": [
        "math.log2(4)"
      ],
      "execution_count": null,
      "outputs": [
        {
          "output_type": "execute_result",
          "data": {
            "text/plain": [
              "2.0"
            ]
          },
          "metadata": {
            "tags": []
          },
          "execution_count": 7
        }
      ]
    },
    {
      "cell_type": "code",
      "metadata": {
        "id": "W8FR0bwZC6Al"
      },
      "source": [
        ""
      ],
      "execution_count": null,
      "outputs": []
    },
    {
      "cell_type": "markdown",
      "metadata": {
        "id": "n1N4JEHyC_k8"
      },
      "source": [
        "# I/O"
      ]
    },
    {
      "cell_type": "code",
      "metadata": {
        "colab": {
          "base_uri": "https://localhost:8080/"
        },
        "id": "CDyQl4yjDBJt",
        "outputId": "60f63e9d-46cb-4c20-ee12-334a3f9c33e7"
      },
      "source": [
        "print(\"this is a line\")"
      ],
      "execution_count": null,
      "outputs": [
        {
          "output_type": "stream",
          "text": [
            "this is a line\n"
          ],
          "name": "stdout"
        }
      ]
    },
    {
      "cell_type": "code",
      "metadata": {
        "colab": {
          "base_uri": "https://localhost:8080/"
        },
        "id": "gb7y3MJoDD0B",
        "outputId": "92c3e6e9-dfe4-4755-b760-c900e83a79c7"
      },
      "source": [
        "print(\"please enter your name\")\n",
        "x = input()\n",
        "print(\"your name is {}\".format(x))"
      ],
      "execution_count": null,
      "outputs": [
        {
          "output_type": "stream",
          "text": [
            "please enter your name\n",
            "satyajit\n",
            "your name is satyajit\n"
          ],
          "name": "stdout"
        }
      ]
    },
    {
      "cell_type": "markdown",
      "metadata": {
        "id": "vCoD0Jd4DpVL"
      },
      "source": [
        "# Write a function that excepts your name and returns a welcome msg"
      ]
    },
    {
      "cell_type": "code",
      "metadata": {
        "id": "1hAzbQ1SDSm0"
      },
      "source": [
        "def welcome():\n",
        "  x = input()\n",
        "  return (\"Welcome\" +\" \"+ x)"
      ],
      "execution_count": null,
      "outputs": []
    },
    {
      "cell_type": "code",
      "metadata": {
        "colab": {
          "base_uri": "https://localhost:8080/",
          "height": 52
        },
        "id": "QIa2hpITEDY6",
        "outputId": "8b78cb2a-b28e-4b6d-aacb-e7e90423238b"
      },
      "source": [
        "welcome()"
      ],
      "execution_count": null,
      "outputs": [
        {
          "output_type": "stream",
          "text": [
            "santosh\n"
          ],
          "name": "stdout"
        },
        {
          "output_type": "execute_result",
          "data": {
            "application/vnd.google.colaboratory.intrinsic+json": {
              "type": "string"
            },
            "text/plain": [
              "'Welcome santosh'"
            ]
          },
          "metadata": {
            "tags": []
          },
          "execution_count": 13
        }
      ]
    },
    {
      "cell_type": "code",
      "metadata": {
        "colab": {
          "base_uri": "https://localhost:8080/",
          "height": 52
        },
        "id": "TDwvYlc3EHyK",
        "outputId": "2fa96bb1-e763-44f5-c836-c20be7dc8f67"
      },
      "source": [
        "welcome()"
      ],
      "execution_count": null,
      "outputs": [
        {
          "output_type": "stream",
          "text": [
            "rabi \n"
          ],
          "name": "stdout"
        },
        {
          "output_type": "execute_result",
          "data": {
            "application/vnd.google.colaboratory.intrinsic+json": {
              "type": "string"
            },
            "text/plain": [
              "'Welcome rabi '"
            ]
          },
          "metadata": {
            "tags": []
          },
          "execution_count": 14
        }
      ]
    },
    {
      "cell_type": "code",
      "metadata": {
        "id": "C91NxnuwETHX"
      },
      "source": [
        "def sqrt(x):\n",
        "  return math.sqrt(x)"
      ],
      "execution_count": null,
      "outputs": []
    },
    {
      "cell_type": "code",
      "metadata": {
        "colab": {
          "base_uri": "https://localhost:8080/"
        },
        "id": "-boB8ynyEoDO",
        "outputId": "32f2e5e8-5def-4c46-ad6c-90d0a24158eb"
      },
      "source": [
        "sqrt(7)"
      ],
      "execution_count": null,
      "outputs": [
        {
          "output_type": "execute_result",
          "data": {
            "text/plain": [
              "2.6457513110645907"
            ]
          },
          "metadata": {
            "tags": []
          },
          "execution_count": 16
        }
      ]
    },
    {
      "cell_type": "markdown",
      "metadata": {
        "id": "6AlcJkV8EzID"
      },
      "source": [
        "# Write a function that will tell you if a number is odd or even"
      ]
    },
    {
      "cell_type": "code",
      "metadata": {
        "id": "CXNuc9FHEpPK"
      },
      "source": [
        "def oddeven(x):\n",
        "\n",
        "  \"\"\"Accepts number and returns yes if an \n",
        "  even number is found else returns odd \n",
        "  input x : 12\n",
        "  output : yes\"\"\"\n",
        "\n",
        "  if(x%3==0):\n",
        "    return \"yes\"\n",
        "  else:\n",
        "    return \"no\""
      ],
      "execution_count": null,
      "outputs": []
    },
    {
      "cell_type": "code",
      "metadata": {
        "colab": {
          "base_uri": "https://localhost:8080/",
          "height": 35
        },
        "id": "bUPLqulWFvO2",
        "outputId": "2dd3147b-3157-4455-957a-8f9c8b1ced96"
      },
      "source": [
        "oddeven(45)"
      ],
      "execution_count": null,
      "outputs": [
        {
          "output_type": "execute_result",
          "data": {
            "application/vnd.google.colaboratory.intrinsic+json": {
              "type": "string"
            },
            "text/plain": [
              "'yes'"
            ]
          },
          "metadata": {
            "tags": []
          },
          "execution_count": 32
        }
      ]
    },
    {
      "cell_type": "code",
      "metadata": {
        "id": "3Iarr3xqFxlA"
      },
      "source": [
        "\n",
        "if?oddeven"
      ],
      "execution_count": null,
      "outputs": []
    },
    {
      "cell_type": "code",
      "metadata": {
        "colab": {
          "base_uri": "https://localhost:8080/"
        },
        "id": "RkfQPgr8GA0S",
        "outputId": "dcf2d5d1-804a-4795-a5c9-bc053acccfb3"
      },
      "source": [
        "3 & False"
      ],
      "execution_count": null,
      "outputs": [
        {
          "output_type": "execute_result",
          "data": {
            "text/plain": [
              "0"
            ]
          },
          "metadata": {
            "tags": []
          },
          "execution_count": 33
        }
      ]
    },
    {
      "cell_type": "code",
      "metadata": {
        "colab": {
          "base_uri": "https://localhost:8080/"
        },
        "id": "Js4Tmn-8IB_f",
        "outputId": "669c9dba-d738-4d1e-e38a-88cf8774ec33"
      },
      "source": [
        "False & True"
      ],
      "execution_count": null,
      "outputs": [
        {
          "output_type": "execute_result",
          "data": {
            "text/plain": [
              "False"
            ]
          },
          "metadata": {
            "tags": []
          },
          "execution_count": 35
        }
      ]
    },
    {
      "cell_type": "code",
      "metadata": {
        "colab": {
          "base_uri": "https://localhost:8080/"
        },
        "id": "50WiZioyIIG8",
        "outputId": "9527b44d-80d5-428f-d2a1-48fa08d4c171"
      },
      "source": [
        "1 & 9"
      ],
      "execution_count": null,
      "outputs": [
        {
          "output_type": "execute_result",
          "data": {
            "text/plain": [
              "1"
            ]
          },
          "metadata": {
            "tags": []
          },
          "execution_count": 36
        }
      ]
    },
    {
      "cell_type": "code",
      "metadata": {
        "colab": {
          "base_uri": "https://localhost:8080/"
        },
        "id": "EUC1QTczIjdl",
        "outputId": "3f3e3aa5-2213-4a97-a9c4-5bc570878a99"
      },
      "source": [
        "bool(9 & 7)"
      ],
      "execution_count": null,
      "outputs": [
        {
          "output_type": "execute_result",
          "data": {
            "text/plain": [
              "True"
            ]
          },
          "metadata": {
            "tags": []
          },
          "execution_count": 39
        }
      ]
    },
    {
      "cell_type": "code",
      "metadata": {
        "id": "Ue8LqxRnInZr"
      },
      "source": [
        "def func(x):\n",
        "  if ((x%3==0) and (x%5==0)):\n",
        "    return \"no\"\n",
        "  if ((x%3==0) or (x%5==0)):\n",
        "    return \"yes\"\n",
        "  else:\n",
        "    return \"no\""
      ],
      "execution_count": null,
      "outputs": []
    },
    {
      "cell_type": "code",
      "metadata": {
        "colab": {
          "base_uri": "https://localhost:8080/",
          "height": 35
        },
        "id": "Ww7IpFXVKRQ0",
        "outputId": "78b3dc86-2167-4274-d99a-f2af8cbf16ee"
      },
      "source": [
        "func(45)"
      ],
      "execution_count": null,
      "outputs": [
        {
          "output_type": "execute_result",
          "data": {
            "application/vnd.google.colaboratory.intrinsic+json": {
              "type": "string"
            },
            "text/plain": [
              "'no'"
            ]
          },
          "metadata": {
            "tags": []
          },
          "execution_count": 51
        }
      ]
    },
    {
      "cell_type": "markdown",
      "metadata": {
        "id": "XizwOORUO_8y"
      },
      "source": [
        "# For Loop"
      ]
    },
    {
      "cell_type": "code",
      "metadata": {
        "id": "ZJW4l_dSKVW1"
      },
      "source": [
        "#print 1 to 100 \n",
        "for i  in range(1,101):\n",
        "  print(i**2)"
      ],
      "execution_count": null,
      "outputs": []
    },
    {
      "cell_type": "code",
      "metadata": {
        "id": "xj2edUO8RNFn"
      },
      "source": [
        "def summation(N):\n",
        "  list1 = []\n",
        "  list2 = []\n",
        "  for i in range(1,N+1):\n",
        "    list1.append(i)\n",
        "  #for j in range(0,len(list1)):\n",
        "    #if(list1[j]%3==0):\n",
        "      #list2.append(list1[j])\n",
        "  return (sum(list1))\n",
        "\n"
      ],
      "execution_count": 25,
      "outputs": []
    },
    {
      "cell_type": "code",
      "metadata": {
        "id": "FsfmLd9jSe3W",
        "outputId": "f5e1be9e-319d-4abf-9a1f-218bd5c9b371",
        "colab": {
          "base_uri": "https://localhost:8080/"
        }
      },
      "source": [
        "summation(100)"
      ],
      "execution_count": 26,
      "outputs": [
        {
          "output_type": "execute_result",
          "data": {
            "text/plain": [
              "5050"
            ]
          },
          "metadata": {
            "tags": []
          },
          "execution_count": 26
        }
      ]
    },
    {
      "cell_type": "code",
      "metadata": {
        "id": "oCmH8BWkPZqd",
        "outputId": "88d0c9aa-1376-4686-d07c-ff7faebc5d4b",
        "colab": {
          "base_uri": "https://localhost:8080/"
        }
      },
      "source": [
        "#list\n",
        "a = [1,2,3,4,5,\"satyajit\"]\n",
        "a"
      ],
      "execution_count": 4,
      "outputs": [
        {
          "output_type": "execute_result",
          "data": {
            "text/plain": [
              "[1, 2, 3, 4, 5, 'satyajit']"
            ]
          },
          "metadata": {
            "tags": []
          },
          "execution_count": 4
        }
      ]
    },
    {
      "cell_type": "code",
      "metadata": {
        "id": "_yukWPpCPoxM",
        "outputId": "8b69b31e-71f1-454a-aa99-100d36f3682f",
        "colab": {
          "base_uri": "https://localhost:8080/"
        }
      },
      "source": [
        "type(a)"
      ],
      "execution_count": 5,
      "outputs": [
        {
          "output_type": "execute_result",
          "data": {
            "text/plain": [
              "list"
            ]
          },
          "metadata": {
            "tags": []
          },
          "execution_count": 5
        }
      ]
    },
    {
      "cell_type": "code",
      "metadata": {
        "id": "LFj1Epo7PzKB",
        "outputId": "a96a88e8-79a9-43e2-8b4b-9b0c474c90ae",
        "colab": {
          "base_uri": "https://localhost:8080/"
        }
      },
      "source": [
        "b = [\"santi\",3,4,7]\n",
        "c=a + b\n",
        "c"
      ],
      "execution_count": 6,
      "outputs": [
        {
          "output_type": "execute_result",
          "data": {
            "text/plain": [
              "[1, 2, 3, 4, 5, 'satyajit', 'santi', 3, 4, 7]"
            ]
          },
          "metadata": {
            "tags": []
          },
          "execution_count": 6
        }
      ]
    },
    {
      "cell_type": "code",
      "metadata": {
        "id": "CwDitaORQDVb",
        "outputId": "567be173-9b3c-447c-85aa-b53da581a90c",
        "colab": {
          "base_uri": "https://localhost:8080/"
        }
      },
      "source": [
        "c.append(\"santosh\")\n",
        "c"
      ],
      "execution_count": 7,
      "outputs": [
        {
          "output_type": "execute_result",
          "data": {
            "text/plain": [
              "[1, 2, 3, 4, 5, 'satyajit', 'santi', 3, 4, 7, 'santosh']"
            ]
          },
          "metadata": {
            "tags": []
          },
          "execution_count": 7
        }
      ]
    },
    {
      "cell_type": "code",
      "metadata": {
        "id": "_tYcOsRvQJFX",
        "outputId": "e4bf038e-5889-48ee-e8a7-9692272afb53",
        "colab": {
          "base_uri": "https://localhost:8080/"
        }
      },
      "source": [
        "len(c)"
      ],
      "execution_count": 8,
      "outputs": [
        {
          "output_type": "execute_result",
          "data": {
            "text/plain": [
              "11"
            ]
          },
          "metadata": {
            "tags": []
          },
          "execution_count": 8
        }
      ]
    },
    {
      "cell_type": "code",
      "metadata": {
        "id": "7ZlXkwS0QQv1",
        "outputId": "0352a0e4-fe93-4295-9884-96afb5f779e6",
        "colab": {
          "base_uri": "https://localhost:8080/",
          "height": 35
        }
      },
      "source": [
        "c[5]"
      ],
      "execution_count": 9,
      "outputs": [
        {
          "output_type": "execute_result",
          "data": {
            "application/vnd.google.colaboratory.intrinsic+json": {
              "type": "string"
            },
            "text/plain": [
              "'satyajit'"
            ]
          },
          "metadata": {
            "tags": []
          },
          "execution_count": 9
        }
      ]
    },
    {
      "cell_type": "code",
      "metadata": {
        "id": "PDU18OQQQccD",
        "outputId": "ab86baf2-d12f-4900-e278-566792b11fae",
        "colab": {
          "base_uri": "https://localhost:8080/"
        }
      },
      "source": [
        "c[5:7]"
      ],
      "execution_count": 10,
      "outputs": [
        {
          "output_type": "execute_result",
          "data": {
            "text/plain": [
              "['satyajit', 'santi']"
            ]
          },
          "metadata": {
            "tags": []
          },
          "execution_count": 10
        }
      ]
    },
    {
      "cell_type": "code",
      "metadata": {
        "id": "iE_eUZo7Qjty",
        "outputId": "ccfda71f-dc4b-43fc-8f98-342b2b7c378e",
        "colab": {
          "base_uri": "https://localhost:8080/"
        }
      },
      "source": [
        "c[5:6]"
      ],
      "execution_count": 11,
      "outputs": [
        {
          "output_type": "execute_result",
          "data": {
            "text/plain": [
              "['satyajit']"
            ]
          },
          "metadata": {
            "tags": []
          },
          "execution_count": 11
        }
      ]
    },
    {
      "cell_type": "code",
      "metadata": {
        "id": "8H0MA0-lQzcp",
        "outputId": "2126333d-f734-4ef0-dc62-c0085a2c9c6d",
        "colab": {
          "base_uri": "https://localhost:8080/",
          "height": 35
        }
      },
      "source": [
        "c[-1]"
      ],
      "execution_count": 12,
      "outputs": [
        {
          "output_type": "execute_result",
          "data": {
            "application/vnd.google.colaboratory.intrinsic+json": {
              "type": "string"
            },
            "text/plain": [
              "'santosh'"
            ]
          },
          "metadata": {
            "tags": []
          },
          "execution_count": 12
        }
      ]
    },
    {
      "cell_type": "code",
      "metadata": {
        "id": "IRTnnl_sQ5a_",
        "outputId": "c74389ad-623a-409c-f976-4ca0f369a16e",
        "colab": {
          "base_uri": "https://localhost:8080/"
        }
      },
      "source": [
        "c[-3:-1]"
      ],
      "execution_count": 14,
      "outputs": [
        {
          "output_type": "execute_result",
          "data": {
            "text/plain": [
              "[4, 7]"
            ]
          },
          "metadata": {
            "tags": []
          },
          "execution_count": 14
        }
      ]
    },
    {
      "cell_type": "code",
      "metadata": {
        "id": "2hdXM_mAQ_e4",
        "outputId": "8445ae81-64c1-40da-8bef-2f26c8948d9f",
        "colab": {
          "base_uri": "https://localhost:8080/"
        }
      },
      "source": [
        "c[-3:]"
      ],
      "execution_count": 15,
      "outputs": [
        {
          "output_type": "execute_result",
          "data": {
            "text/plain": [
              "[4, 7, 'santosh']"
            ]
          },
          "metadata": {
            "tags": []
          },
          "execution_count": 15
        }
      ]
    },
    {
      "cell_type": "code",
      "metadata": {
        "id": "xxC0JNJhRH4y"
      },
      "source": [
        ""
      ],
      "execution_count": null,
      "outputs": []
    }
  ]
}