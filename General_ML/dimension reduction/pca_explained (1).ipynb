{
  "nbformat": 4,
  "nbformat_minor": 0,
  "metadata": {
    "colab": {
      "name": "pca_explained.ipynb",
      "provenance": []
    },
    "kernelspec": {
      "name": "python3",
      "display_name": "Python 3"
    }
  },
  "cells": [
    {
      "cell_type": "markdown",
      "metadata": {
        "id": "UtOc9b7WfG2W",
        "colab_type": "text"
      },
      "source": [
        "#PCA "
      ]
    },
    {
      "cell_type": "markdown",
      "metadata": {
        "id": "BWivVZjWfa5U",
        "colab_type": "text"
      },
      "source": [
        "Principal component analysis (PCA) is a statistical analysis technique that transforms possibly correlated variables to orthogonal linearly uncorrelated values. We can use it for applications such as data compression, to get dominant physical processes and to get important features for machine learning. Without losing much information, it reduces the number of features in the original data.\n",
        "\n",
        "Recently, I was using PCA with Spark with sparse matrix with millions of rows and to make sure everything was right I first started with a small dataset and compared the results from Spark, Python and R which led to this blog post.\n",
        "\n",
        "In this post, I will cover data prepocessing required and how to implement PCA in R, Python and Spark and how to translate the results.\n",
        "\n",
        "The calculation is done using singular value decomposition (SVD). The SVD of any m x n matrix is calculated as\n",
        "\n",
        "A=U∑VT \n",
        "where U is an m × m orthogonal matrix whose columns are the eigenvectors of  AAT  , V is an n × n orthogonal matrix whose columns are the eigenvectors of  ATA , and Σ is an m × n diagonal matrix and its values are zero except along the diagonal.\n",
        "\n",
        "When applying PCA, we have to center our data that is we have to subtract the column mean. Next, based on the nature of our data, we may need to standardize our data (make each feature have a unit variance and zero mean). If the columns are in different scales such as year, temperature, carbondioxide concentration, for example, we have to standardize the data. If the data is in the same unit, on the other hand, standardizing it can result in loss of important information. In the first case, when the columns are in the same unit and in similar scale, we use the covariance matrix for SVD but when the units are different since we standardize the data, we use the correlation matrix.\n",
        "\n",
        "The principal components (PCs) are the matrix product of the original data and the matrix V which is equal to the product of matrixes U and ∑."
      ]
    },
    {
      "cell_type": "code",
      "metadata": {
        "id": "m3M8GoI2e_LU",
        "colab_type": "code",
        "outputId": "8ed9c36a-f45d-4983-9a78-a0b15e91ba20",
        "colab": {
          "base_uri": "https://localhost:8080/",
          "height": 71
        }
      },
      "source": [
        "from sklearn.decomposition import PCA\n",
        "import pandas as pd\n",
        "import numpy as np\n",
        "import seaborn as sns\n",
        "import matplotlib.pyplot as plt\n",
        "plt.style.use('ggplot')\n",
        "from sklearn.preprocessing import scale\n",
        "%matplotlib inline"
      ],
      "execution_count": 0,
      "outputs": [
        {
          "output_type": "stream",
          "text": [
            "/usr/local/lib/python3.6/dist-packages/statsmodels/tools/_testing.py:19: FutureWarning: pandas.util.testing is deprecated. Use the functions in the public API at pandas.testing instead.\n",
            "  import pandas.util.testing as tm\n"
          ],
          "name": "stderr"
        }
      ]
    },
    {
      "cell_type": "code",
      "metadata": {
        "id": "lnVJJ1PCfLUW",
        "colab_type": "code",
        "outputId": "dd3f6ee5-d88c-451c-ab13-de0299c4b6cb",
        "colab": {
          "base_uri": "https://localhost:8080/",
          "height": 204
        }
      },
      "source": [
        "df = pd.read_csv(\"https://raw.githubusercontent.com/venky14/Machine-Learning-with-Iris-Dataset/master/Iris.csv\")\n",
        "df.head()"
      ],
      "execution_count": 0,
      "outputs": [
        {
          "output_type": "execute_result",
          "data": {
            "text/html": [
              "<div>\n",
              "<style scoped>\n",
              "    .dataframe tbody tr th:only-of-type {\n",
              "        vertical-align: middle;\n",
              "    }\n",
              "\n",
              "    .dataframe tbody tr th {\n",
              "        vertical-align: top;\n",
              "    }\n",
              "\n",
              "    .dataframe thead th {\n",
              "        text-align: right;\n",
              "    }\n",
              "</style>\n",
              "<table border=\"1\" class=\"dataframe\">\n",
              "  <thead>\n",
              "    <tr style=\"text-align: right;\">\n",
              "      <th></th>\n",
              "      <th>Id</th>\n",
              "      <th>SepalLengthCm</th>\n",
              "      <th>SepalWidthCm</th>\n",
              "      <th>PetalLengthCm</th>\n",
              "      <th>PetalWidthCm</th>\n",
              "      <th>Species</th>\n",
              "    </tr>\n",
              "  </thead>\n",
              "  <tbody>\n",
              "    <tr>\n",
              "      <th>0</th>\n",
              "      <td>1</td>\n",
              "      <td>5.1</td>\n",
              "      <td>3.5</td>\n",
              "      <td>1.4</td>\n",
              "      <td>0.2</td>\n",
              "      <td>Iris-setosa</td>\n",
              "    </tr>\n",
              "    <tr>\n",
              "      <th>1</th>\n",
              "      <td>2</td>\n",
              "      <td>4.9</td>\n",
              "      <td>3.0</td>\n",
              "      <td>1.4</td>\n",
              "      <td>0.2</td>\n",
              "      <td>Iris-setosa</td>\n",
              "    </tr>\n",
              "    <tr>\n",
              "      <th>2</th>\n",
              "      <td>3</td>\n",
              "      <td>4.7</td>\n",
              "      <td>3.2</td>\n",
              "      <td>1.3</td>\n",
              "      <td>0.2</td>\n",
              "      <td>Iris-setosa</td>\n",
              "    </tr>\n",
              "    <tr>\n",
              "      <th>3</th>\n",
              "      <td>4</td>\n",
              "      <td>4.6</td>\n",
              "      <td>3.1</td>\n",
              "      <td>1.5</td>\n",
              "      <td>0.2</td>\n",
              "      <td>Iris-setosa</td>\n",
              "    </tr>\n",
              "    <tr>\n",
              "      <th>4</th>\n",
              "      <td>5</td>\n",
              "      <td>5.0</td>\n",
              "      <td>3.6</td>\n",
              "      <td>1.4</td>\n",
              "      <td>0.2</td>\n",
              "      <td>Iris-setosa</td>\n",
              "    </tr>\n",
              "  </tbody>\n",
              "</table>\n",
              "</div>"
            ],
            "text/plain": [
              "   Id  SepalLengthCm  SepalWidthCm  PetalLengthCm  PetalWidthCm      Species\n",
              "0   1            5.1           3.5            1.4           0.2  Iris-setosa\n",
              "1   2            4.9           3.0            1.4           0.2  Iris-setosa\n",
              "2   3            4.7           3.2            1.3           0.2  Iris-setosa\n",
              "3   4            4.6           3.1            1.5           0.2  Iris-setosa\n",
              "4   5            5.0           3.6            1.4           0.2  Iris-setosa"
            ]
          },
          "metadata": {
            "tags": []
          },
          "execution_count": 2
        }
      ]
    },
    {
      "cell_type": "code",
      "metadata": {
        "id": "5Hou3h8dfWTr",
        "colab_type": "code",
        "colab": {}
      },
      "source": [
        "df = df.drop(['Id','Species'], axis = 1)"
      ],
      "execution_count": 0,
      "outputs": []
    },
    {
      "cell_type": "code",
      "metadata": {
        "id": "QJb-P242fYun",
        "colab_type": "code",
        "outputId": "93c5ba77-40fc-411b-f47e-fcd62f37d2e3",
        "colab": {
          "base_uri": "https://localhost:8080/",
          "height": 535
        }
      },
      "source": [
        "corr = df.corr()\n",
        "plt.figure(figsize = (14, 8))\n",
        "sns.heatmap(corr, cmap=\"RdBu\",annot = True,\n",
        "            xticklabels=corr.columns.values,\n",
        "            yticklabels=corr.columns.values)\n",
        "plt.title('Correlation matrix')\n",
        "plt.xticks(size = 16)\n",
        "plt.yticks(size = 16)\n",
        "plt.show()"
      ],
      "execution_count": 0,
      "outputs": [
        {
          "output_type": "display_data",
          "data": {
            "image/png": "[encoded data removed]",
            "text/plain": [
              "<Figure size 1008x576 with 2 Axes>"
            ]
          },
          "metadata": {
            "tags": [],
            "needs_background": "light"
          }
        }
      ]
    },
    {
      "cell_type": "markdown",
      "metadata": {
        "id": "M2OLB1eOf2A8",
        "colab_type": "text"
      },
      "source": [
        "#Center"
      ]
    },
    {
      "cell_type": "code",
      "metadata": {
        "id": "QVuXSoUbfvtL",
        "colab_type": "code",
        "colab": {}
      },
      "source": [
        "scaled = scale(df, with_mean=True, with_std=False)"
      ],
      "execution_count": 0,
      "outputs": []
    },
    {
      "cell_type": "markdown",
      "metadata": {
        "id": "YaxAc6DZf9yA",
        "colab_type": "text"
      },
      "source": [
        "#PCA"
      ]
    },
    {
      "cell_type": "code",
      "metadata": {
        "id": "UNpV5qr5f4q0",
        "colab_type": "code",
        "colab": {}
      },
      "source": [
        "model = PCA()\n",
        "model.fit(scaled)\n",
        "transformed = model.transform(scaled)"
      ],
      "execution_count": 0,
      "outputs": []
    },
    {
      "cell_type": "code",
      "metadata": {
        "id": "jj80sGi9f_DF",
        "colab_type": "code",
        "outputId": "ca680630-958a-46ab-951e-28713963c790",
        "colab": {
          "base_uri": "https://localhost:8080/",
          "height": 34
        }
      },
      "source": [
        "np.round(model.explained_variance_ratio_ * 100,4)"
      ],
      "execution_count": 0,
      "outputs": [
        {
          "output_type": "execute_result",
          "data": {
            "text/plain": [
              "array([92.4616,  5.3016,  1.7185,  0.5183])"
            ]
          },
          "metadata": {
            "tags": []
          },
          "execution_count": 7
        }
      ]
    },
    {
      "cell_type": "code",
      "metadata": {
        "id": "RC2kk0JwgFFw",
        "colab_type": "code",
        "outputId": "3b502ab0-80c9-498b-abab-d50f08f8af71",
        "colab": {
          "base_uri": "https://localhost:8080/",
          "height": 466
        }
      },
      "source": [
        "var = pd.DataFrame ({'variance':np.round(model.explained_variance_ratio_ * 100,4), \n",
        "                    'PC':['p' + str(i) for i in range(1,5)]})\n",
        "\n",
        "ax = var.plot(kind='bar', figsize=(10,7), color=\"coral\", fontsize=13, legend = False)\n",
        "ax.set_alpha(0.8)\n",
        "ax.set_title(\"Fig. 6. Variance Explained\", fontsize=18)\n",
        "ax.set_xlabel(\"PC\", fontsize=16)\n",
        "ax.set_ylabel(\"Variance Explained (%)\", fontsize=16)\n",
        "\n",
        "rects = ax.patches\n",
        "labels = list(var['variance'])\n",
        "labels = [str(variance) +'%' for variance in labels]\n",
        "                          \n",
        "\n",
        "for rect, label in zip(rects, labels):\n",
        "    height = rect.get_height()\n",
        "    ax.text(rect.get_x() + rect.get_width() / 2, height + 1, label,\n",
        "            ha ='center', va='bottom')"
      ],
      "execution_count": 0,
      "outputs": [
        {
          "output_type": "display_data",
          "data": {
            "image/png": "[encoded data removed]",
            "text/plain": [
              "<Figure size 720x504 with 1 Axes>"
            ]
          },
          "metadata": {
            "tags": [],
            "needs_background": "light"
          }
        }
      ]
    },
    {
      "cell_type": "code",
      "metadata": {
        "id": "3xq1byPmgPC8",
        "colab_type": "code",
        "outputId": "843238b7-c7da-431a-8f79-fba64e11dcff",
        "colab": {
          "base_uri": "https://localhost:8080/",
          "height": 85
        }
      },
      "source": [
        "loadings = np.round(model.components_,4)\n",
        "loadings"
      ],
      "execution_count": 0,
      "outputs": [
        {
          "output_type": "execute_result",
          "data": {
            "text/plain": [
              "array([[ 0.3616, -0.0823,  0.8566,  0.3588],\n",
              "       [ 0.6565,  0.7297, -0.1758, -0.0747],\n",
              "       [-0.581 ,  0.5964,  0.0725,  0.5491],\n",
              "       [ 0.3173, -0.3241, -0.4797,  0.7511]])"
            ]
          },
          "metadata": {
            "tags": []
          },
          "execution_count": 9
        }
      ]
    },
    {
      "cell_type": "code",
      "metadata": {
        "id": "lw0u9FYYgfVo",
        "colab_type": "code",
        "outputId": "7004884a-2468-4bd8-9f43-2968f58f0b0f",
        "colab": {
          "base_uri": "https://localhost:8080/",
          "height": 187
        }
      },
      "source": [
        "np.set_printoptions(suppress=True)\n",
        "transformed = np.round(transformed, 5)\n",
        "transformed[:10,:]"
      ],
      "execution_count": 0,
      "outputs": [
        {
          "output_type": "execute_result",
          "data": {
            "text/plain": [
              "array([[-2.68421,  0.32661, -0.02151,  0.00101],\n",
              "       [-2.71539, -0.16956, -0.20352,  0.0996 ],\n",
              "       [-2.88982, -0.13735,  0.02471,  0.0193 ],\n",
              "       [-2.74644, -0.31112,  0.03767, -0.07596],\n",
              "       [-2.72859,  0.33392,  0.09623, -0.06313],\n",
              "       [-2.2799 ,  0.74778,  0.17433, -0.02715],\n",
              "       [-2.82089, -0.0821 ,  0.26425, -0.0501 ],\n",
              "       [-2.62648,  0.17041, -0.0158 , -0.04628],\n",
              "       [-2.88796, -0.5708 ,  0.02734, -0.02662],\n",
              "       [-2.67384, -0.10669, -0.19153, -0.05589]])"
            ]
          },
          "metadata": {
            "tags": []
          },
          "execution_count": 10
        }
      ]
    },
    {
      "cell_type": "code",
      "metadata": {
        "id": "dq197m-Rgnl8",
        "colab_type": "code",
        "outputId": "f718f8c4-657f-4468-f32f-cd5ef5e61368",
        "colab": {
          "base_uri": "https://localhost:8080/",
          "height": 85
        }
      },
      "source": [
        "np.round(np.corrcoef(transformed, rowvar=False),5)"
      ],
      "execution_count": 0,
      "outputs": [
        {
          "output_type": "execute_result",
          "data": {
            "text/plain": [
              "array([[ 1.,  0.,  0., -0.],\n",
              "       [ 0.,  1.,  0.,  0.],\n",
              "       [ 0.,  0.,  1., -0.],\n",
              "       [-0.,  0., -0.,  1.]])"
            ]
          },
          "metadata": {
            "tags": []
          },
          "execution_count": 11
        }
      ]
    },
    {
      "cell_type": "code",
      "metadata": {
        "id": "7BGszWejgvar",
        "colab_type": "code",
        "colab": {
          "base_uri": "https://localhost:8080/",
          "height": 204
        },
        "outputId": "2533cd78-3982-4d04-c596-df31e93cfb33"
      },
      "source": [
        "df = pd.read_csv('https://courses.edx.org/asset-v1:MITx+15.071x_2a+2T2015+type@asset+block/climate_change.csv')\n",
        "df.head()"
      ],
      "execution_count": 12,
      "outputs": [
        {
          "output_type": "execute_result",
          "data": {
            "text/html": [
              "<div>\n",
              "<style scoped>\n",
              "    .dataframe tbody tr th:only-of-type {\n",
              "        vertical-align: middle;\n",
              "    }\n",
              "\n",
              "    .dataframe tbody tr th {\n",
              "        vertical-align: top;\n",
              "    }\n",
              "\n",
              "    .dataframe thead th {\n",
              "        text-align: right;\n",
              "    }\n",
              "</style>\n",
              "<table border=\"1\" class=\"dataframe\">\n",
              "  <thead>\n",
              "    <tr style=\"text-align: right;\">\n",
              "      <th></th>\n",
              "      <th>Year</th>\n",
              "      <th>Month</th>\n",
              "      <th>MEI</th>\n",
              "      <th>CO2</th>\n",
              "      <th>CH4</th>\n",
              "      <th>N2O</th>\n",
              "      <th>CFC-11</th>\n",
              "      <th>CFC-12</th>\n",
              "      <th>TSI</th>\n",
              "      <th>Aerosols</th>\n",
              "      <th>Temp</th>\n",
              "    </tr>\n",
              "  </thead>\n",
              "  <tbody>\n",
              "    <tr>\n",
              "      <th>0</th>\n",
              "      <td>1983</td>\n",
              "      <td>5</td>\n",
              "      <td>2.556</td>\n",
              "      <td>345.96</td>\n",
              "      <td>1638.59</td>\n",
              "      <td>303.677</td>\n",
              "      <td>191.324</td>\n",
              "      <td>350.113</td>\n",
              "      <td>1366.1024</td>\n",
              "      <td>0.0863</td>\n",
              "      <td>0.109</td>\n",
              "    </tr>\n",
              "    <tr>\n",
              "      <th>1</th>\n",
              "      <td>1983</td>\n",
              "      <td>6</td>\n",
              "      <td>2.167</td>\n",
              "      <td>345.52</td>\n",
              "      <td>1633.71</td>\n",
              "      <td>303.746</td>\n",
              "      <td>192.057</td>\n",
              "      <td>351.848</td>\n",
              "      <td>1366.1208</td>\n",
              "      <td>0.0794</td>\n",
              "      <td>0.118</td>\n",
              "    </tr>\n",
              "    <tr>\n",
              "      <th>2</th>\n",
              "      <td>1983</td>\n",
              "      <td>7</td>\n",
              "      <td>1.741</td>\n",
              "      <td>344.15</td>\n",
              "      <td>1633.22</td>\n",
              "      <td>303.795</td>\n",
              "      <td>192.818</td>\n",
              "      <td>353.725</td>\n",
              "      <td>1366.2850</td>\n",
              "      <td>0.0731</td>\n",
              "      <td>0.137</td>\n",
              "    </tr>\n",
              "    <tr>\n",
              "      <th>3</th>\n",
              "      <td>1983</td>\n",
              "      <td>8</td>\n",
              "      <td>1.130</td>\n",
              "      <td>342.25</td>\n",
              "      <td>1631.35</td>\n",
              "      <td>303.839</td>\n",
              "      <td>193.602</td>\n",
              "      <td>355.633</td>\n",
              "      <td>1366.4202</td>\n",
              "      <td>0.0673</td>\n",
              "      <td>0.176</td>\n",
              "    </tr>\n",
              "    <tr>\n",
              "      <th>4</th>\n",
              "      <td>1983</td>\n",
              "      <td>9</td>\n",
              "      <td>0.428</td>\n",
              "      <td>340.17</td>\n",
              "      <td>1648.40</td>\n",
              "      <td>303.901</td>\n",
              "      <td>194.392</td>\n",
              "      <td>357.465</td>\n",
              "      <td>1366.2335</td>\n",
              "      <td>0.0619</td>\n",
              "      <td>0.149</td>\n",
              "    </tr>\n",
              "  </tbody>\n",
              "</table>\n",
              "</div>"
            ],
            "text/plain": [
              "   Year  Month    MEI     CO2  ...   CFC-12        TSI  Aerosols   Temp\n",
              "0  1983      5  2.556  345.96  ...  350.113  1366.1024    0.0863  0.109\n",
              "1  1983      6  2.167  345.52  ...  351.848  1366.1208    0.0794  0.118\n",
              "2  1983      7  1.741  344.15  ...  353.725  1366.2850    0.0731  0.137\n",
              "3  1983      8  1.130  342.25  ...  355.633  1366.4202    0.0673  0.176\n",
              "4  1983      9  0.428  340.17  ...  357.465  1366.2335    0.0619  0.149\n",
              "\n",
              "[5 rows x 11 columns]"
            ]
          },
          "metadata": {
            "tags": []
          },
          "execution_count": 12
        }
      ]
    },
    {
      "cell_type": "code",
      "metadata": {
        "id": "DgVmFmWMnNK3",
        "colab_type": "code",
        "colab": {}
      },
      "source": [
        "df = df.drop('Temp', axis = 1)"
      ],
      "execution_count": 0,
      "outputs": []
    },
    {
      "cell_type": "code",
      "metadata": {
        "id": "w3xQk96jnPaG",
        "colab_type": "code",
        "colab": {
          "base_uri": "https://localhost:8080/",
          "height": 357
        },
        "outputId": "00b081da-1563-4016-c84e-4a34c2e124c5"
      },
      "source": [
        "scaled = scale(df, with_mean=True, with_std=True)\n",
        "scaled[:10,:]"
      ],
      "execution_count": 14,
      "outputs": [
        {
          "output_type": "execute_result",
          "data": {
            "text/plain": [
              "array([[-1.70855544, -0.45093617,  2.43534589, -1.3674928 , -2.41935872,\n",
              "        -1.67058335, -3.00259074, -2.55333892,  0.07930841,  2.40128134],\n",
              "       [-1.70855544, -0.16037479,  2.01992275, -1.40233993, -2.52549908,\n",
              "        -1.65735645, -2.96630166, -2.52328676,  0.12542829,  2.16336977],\n",
              "       [-1.70855544,  0.13018659,  1.56498635, -1.51084122, -2.53615661,\n",
              "        -1.64796344, -2.92862636, -2.490775  ,  0.53699806,  1.94614617],\n",
              "       [-1.70855544,  0.42074798,  0.91248367, -1.66131748, -2.57682925,\n",
              "        -1.63952889, -2.88981239, -2.45772628,  0.87587889,  1.74616253],\n",
              "       [-1.70855544,  0.71130936,  0.16279974, -1.82604937, -2.20599051,\n",
              "        -1.62764385, -2.85070138, -2.42599396,  0.40791253,  1.55997087],\n",
              "       [-1.70855544,  1.00187074, -0.29213666, -1.81575363, -1.87125689,\n",
              "        -1.61441695, -2.81213495, -2.39639215, -0.02972499,  1.38757118],\n",
              "       [-1.70855544,  1.29243213, -0.48222745, -1.71834006, -1.9921873 ,\n",
              "        -1.60253191, -2.77500423, -2.36895547,  0.09133969,  1.23241147],\n",
              "       [-1.70855544,  1.58299351, -0.48222745, -1.59637509, -2.07744758,\n",
              "        -1.5929472 , -2.74094299, -2.34442875, -0.02521326,  1.10138771],\n",
              "       [-1.57362337, -1.6131817 , -0.65629936, -1.51876103, -1.97587474,\n",
              "        -1.58374587, -2.71074335, -2.32390321, -1.6158477 ,  0.98070793],\n",
              "       [-1.57362337, -1.32262032, -0.8976506 , -1.46173845, -2.03024992,\n",
              "        -1.57147744, -2.68400924, -2.30767331, -1.02506211,  0.86002815]])"
            ]
          },
          "metadata": {
            "tags": []
          },
          "execution_count": 14
        }
      ]
    },
    {
      "cell_type": "code",
      "metadata": {
        "id": "liAuOCfmnSma",
        "colab_type": "code",
        "colab": {}
      },
      "source": [
        "model = PCA()\n",
        "model.fit(scaled)\n",
        "transformed = model.transform(scaled)"
      ],
      "execution_count": 0,
      "outputs": []
    },
    {
      "cell_type": "code",
      "metadata": {
        "id": "-HnBK7b7nVk2",
        "colab_type": "code",
        "colab": {
          "base_uri": "https://localhost:8080/",
          "height": 51
        },
        "outputId": "2b4659f8-d08b-4588-a35a-ee9131fcd029"
      },
      "source": [
        "np.round(model.explained_variance_ratio_ * 100,4)"
      ],
      "execution_count": 16,
      "outputs": [
        {
          "output_type": "execute_result",
          "data": {
            "text/plain": [
              "array([51.9871, 14.6612, 10.8331, 10.1167,  6.2387,  5.4798,  0.4623,\n",
              "        0.1489,  0.0639,  0.0084])"
            ]
          },
          "metadata": {
            "tags": []
          },
          "execution_count": 16
        }
      ]
    },
    {
      "cell_type": "code",
      "metadata": {
        "id": "RT8z9657nXWZ",
        "colab_type": "code",
        "colab": {
          "base_uri": "https://localhost:8080/",
          "height": 357
        },
        "outputId": "7a565b62-ee0e-4853-cff3-8b676a8b0a98"
      },
      "source": [
        "np.round(model.components_,4)"
      ],
      "execution_count": 17,
      "outputs": [
        {
          "output_type": "execute_result",
          "data": {
            "text/plain": [
              "array([[-0.4237,  0.011 ,  0.0697, -0.4128, -0.4262, -0.417 , -0.2862,\n",
              "        -0.4192, -0.0591,  0.1687],\n",
              "       [-0.1014, -0.0091,  0.5125, -0.1341,  0.092 , -0.1201,  0.4596,\n",
              "         0.1951,  0.3811,  0.54  ],\n",
              "       [-0.127 , -0.0696, -0.5834, -0.1264, -0.0107, -0.1153,  0.138 ,\n",
              "         0.0093,  0.748 , -0.1751],\n",
              "       [-0.0212,  0.9886, -0.0822, -0.0971,  0.0492,  0.014 ,  0.0466,\n",
              "         0.0357,  0.0033,  0.0065],\n",
              "       [ 0.2036,  0.0319, -0.21  ,  0.2475, -0.0282,  0.2715, -0.4918,\n",
              "        -0.1428,  0.2102,  0.6865],\n",
              "       [-0.0916, -0.0906, -0.5833, -0.1322,  0.087 , -0.1342,  0.3956,\n",
              "         0.1381, -0.4968,  0.4215],\n",
              "       [ 0.1556,  0.054 , -0.0286,  0.3007, -0.8778,  0.0796,  0.2781,\n",
              "         0.1653,  0.0059, -0.0015],\n",
              "       [-0.3187,  0.07  ,  0.001 ,  0.7632,  0.1638, -0.3456,  0.1735,\n",
              "        -0.3669,  0.0053,  0.0063],\n",
              "       [-0.0458, -0.0181,  0.0099, -0.1558, -0.0077,  0.603 ,  0.4   ,\n",
              "        -0.6702, -0.0046, -0.0166],\n",
              "       [ 0.7848,  0.018 ,  0.0003, -0.1017,  0.0389, -0.466 ,  0.1409,\n",
              "        -0.3664,  0.0266,  0.0057]])"
            ]
          },
          "metadata": {
            "tags": []
          },
          "execution_count": 17
        }
      ]
    },
    {
      "cell_type": "code",
      "metadata": {
        "id": "IhOFJCkEnaE4",
        "colab_type": "code",
        "colab": {
          "base_uri": "https://localhost:8080/",
          "height": 187
        },
        "outputId": "fcad1e30-3b34-4ee3-9de1-f7ea36fa41ca"
      },
      "source": [
        "transformed = np.round(transformed, 5)\n",
        "transformed[:10,:6]"
      ],
      "execution_count": 18,
      "outputs": [
        {
          "output_type": "execute_result",
          "data": {
            "text/plain": [
              "array([[ 5.51092,  1.03562, -1.58056, -0.83435,  1.90866, -1.59633],\n",
              "       [ 5.47343,  0.72501, -1.27296, -0.51325,  1.82735, -1.49142],\n",
              "       [ 5.40493,  0.56482, -0.66364, -0.17564,  1.82238, -1.51685],\n",
              "       [ 5.35984,  0.28859,  0.00946,  0.18075,  1.84502, -1.38006],\n",
              "       [ 5.18755, -0.29822,  0.13036,  0.56422,  1.71375, -0.74276],\n",
              "       [ 4.97996, -0.74257,  0.07758,  0.9048 ,  1.58169, -0.31363],\n",
              "       [ 4.92081, -0.88351,  0.27896,  1.19451,  1.55837, -0.36115],\n",
              "       [ 4.87075, -1.00623,  0.18382,  1.46706,  1.46812, -0.39278],\n",
              "       [ 4.7437 , -1.73554, -0.6854 , -1.68736,  1.01412,  0.73762],\n",
              "       [ 4.65483, -1.7006 , -0.106  , -1.38536,  1.11894,  0.5066 ]])"
            ]
          },
          "metadata": {
            "tags": []
          },
          "execution_count": 18
        }
      ]
    },
    {
      "cell_type": "code",
      "metadata": {
        "id": "oh5VhS0qnb_S",
        "colab_type": "code",
        "colab": {
          "base_uri": "https://localhost:8080/",
          "height": 187
        },
        "outputId": "345e456c-925c-413b-daed-58d9f3404f32"
      },
      "source": [
        "np.round(np.corrcoef(transformed, rowvar=False), 4)"
      ],
      "execution_count": 19,
      "outputs": [
        {
          "output_type": "execute_result",
          "data": {
            "text/plain": [
              "array([[ 1.,  0.,  0., -0., -0., -0.,  0., -0.,  0.,  0.],\n",
              "       [ 0.,  1., -0., -0., -0.,  0.,  0.,  0.,  0., -0.],\n",
              "       [ 0., -0.,  1., -0.,  0., -0.,  0., -0., -0., -0.],\n",
              "       [-0., -0., -0.,  1., -0.,  0.,  0., -0., -0.,  0.],\n",
              "       [-0., -0.,  0., -0.,  1., -0., -0.,  0., -0.,  0.],\n",
              "       [-0.,  0., -0.,  0., -0.,  1., -0., -0.,  0., -0.],\n",
              "       [ 0.,  0.,  0.,  0., -0., -0.,  1.,  0., -0.,  0.],\n",
              "       [-0.,  0., -0., -0.,  0., -0.,  0.,  1., -0., -0.],\n",
              "       [ 0.,  0., -0., -0., -0.,  0., -0., -0.,  1.,  0.],\n",
              "       [ 0., -0., -0.,  0.,  0., -0.,  0., -0.,  0.,  1.]])"
            ]
          },
          "metadata": {
            "tags": []
          },
          "execution_count": 19
        }
      ]
    },
    {
      "cell_type": "code",
      "metadata": {
        "id": "TIepp2g8neBC",
        "colab_type": "code",
        "colab": {}
      },
      "source": [
        ""
      ],
      "execution_count": 0,
      "outputs": []
    }
  ]
}